{
  "nbformat": 4,
  "nbformat_minor": 0,
  "metadata": {
    "colab": {
      "name": "Naver_movie_review.ipynb",
      "provenance": [],
      "collapsed_sections": []
    },
    "kernelspec": {
      "name": "python3",
      "display_name": "Python 3"
    },
    "language_info": {
      "name": "python"
    }
  },
  "cells": [
    {
      "cell_type": "markdown",
      "metadata": {
        "id": "cZ755Gsrv4R4"
      },
      "source": [
        "네이버 영화 리뷰 스크래핑"
      ]
    },
    {
      "cell_type": "code",
      "metadata": {
        "id": "NYMJIBzIv83L"
      },
      "source": [
        "from bs4 import BeautifulSoup\n",
        "import urllib.request\n",
        "from urllib.parse import quote\n",
        "import pandas as pd\n",
        "\n",
        "def get_movie_reviews(mcode, page_num=10):\n",
        "\n",
        "  movie_review_df = pd.DataFrame(columns=(\"Title\", \"Score\", \"User\"))\n",
        "  url = \"https://movie.naver.com/movie/point/af/list.naver?st=mcode&sword=\" +str(mcode) + \"&target=after\"\n",
        "  idx = 0\n",
        "\n",
        "  for _ in range(0, page_num):\n",
        "    movie_page = urllib.request.urlopen(url).read()\n",
        "    movie_page_soup = BeautifulSoup(movie_page, 'html.parser')\n",
        "\n",
        "    review_list = movie_page_soup.find_all('td', {'class':'title'})\n",
        "    for review in review_list:\n",
        "      title = review.find('a', {'class':'movie color_b'}).get_text()\n",
        "      score = review.find('em').get_text()\n",
        "      user = review.find('a').get_text()\n",
        "      # review_text = review.find('a', {'class':'report'}).get('href').split(',')[2]\n",
        "      movie_review_df.loc[idx] = [title, score, user]\n",
        "      idx += 1\n",
        "      print(\"#\", end=\"\")\n",
        "    try:\n",
        "      url = \"https://movie.naver.com\" + movie_review_soup.find('a',{'class':'pg_next'}).get('href')\n",
        "    except:\n",
        "      break\n",
        "\n",
        "  return movie_review_df\n",
        "  "
      ],
      "execution_count": null,
      "outputs": []
    },
    {
      "cell_type": "code",
      "metadata": {
        "colab": {
          "base_uri": "https://localhost:8080/",
          "height": 377
        },
        "id": "g1p9VnIlxXSb",
        "outputId": "5269bc7d-c7c3-4c0b-ceae-18741e5a4c9b"
      },
      "source": [
        "movie_review_df = get_movie_reviews(204496, 1)\n",
        "movie_review_df"
      ],
      "execution_count": null,
      "outputs": [
        {
          "output_type": "stream",
          "text": [
            "##########"
          ],
          "name": "stdout"
        },
        {
          "output_type": "execute_result",
          "data": {
            "text/html": [
              "<div>\n",
              "<style scoped>\n",
              "    .dataframe tbody tr th:only-of-type {\n",
              "        vertical-align: middle;\n",
              "    }\n",
              "\n",
              "    .dataframe tbody tr th {\n",
              "        vertical-align: top;\n",
              "    }\n",
              "\n",
              "    .dataframe thead th {\n",
              "        text-align: right;\n",
              "    }\n",
              "</style>\n",
              "<table border=\"1\" class=\"dataframe\">\n",
              "  <thead>\n",
              "    <tr style=\"text-align: right;\">\n",
              "      <th></th>\n",
              "      <th>Title</th>\n",
              "      <th>Score</th>\n",
              "      <th>User</th>\n",
              "    </tr>\n",
              "  </thead>\n",
              "  <tbody>\n",
              "    <tr>\n",
              "      <th>0</th>\n",
              "      <td>랑종</td>\n",
              "      <td>2</td>\n",
              "      <td>랑종</td>\n",
              "    </tr>\n",
              "    <tr>\n",
              "      <th>1</th>\n",
              "      <td>랑종</td>\n",
              "      <td>2</td>\n",
              "      <td>랑종</td>\n",
              "    </tr>\n",
              "    <tr>\n",
              "      <th>2</th>\n",
              "      <td>랑종</td>\n",
              "      <td>10</td>\n",
              "      <td>랑종</td>\n",
              "    </tr>\n",
              "    <tr>\n",
              "      <th>3</th>\n",
              "      <td>랑종</td>\n",
              "      <td>8</td>\n",
              "      <td>랑종</td>\n",
              "    </tr>\n",
              "    <tr>\n",
              "      <th>4</th>\n",
              "      <td>랑종</td>\n",
              "      <td>10</td>\n",
              "      <td>랑종</td>\n",
              "    </tr>\n",
              "    <tr>\n",
              "      <th>5</th>\n",
              "      <td>랑종</td>\n",
              "      <td>4</td>\n",
              "      <td>랑종</td>\n",
              "    </tr>\n",
              "    <tr>\n",
              "      <th>6</th>\n",
              "      <td>랑종</td>\n",
              "      <td>9</td>\n",
              "      <td>랑종</td>\n",
              "    </tr>\n",
              "    <tr>\n",
              "      <th>7</th>\n",
              "      <td>랑종</td>\n",
              "      <td>8</td>\n",
              "      <td>랑종</td>\n",
              "    </tr>\n",
              "    <tr>\n",
              "      <th>8</th>\n",
              "      <td>랑종</td>\n",
              "      <td>6</td>\n",
              "      <td>랑종</td>\n",
              "    </tr>\n",
              "    <tr>\n",
              "      <th>9</th>\n",
              "      <td>랑종</td>\n",
              "      <td>10</td>\n",
              "      <td>랑종</td>\n",
              "    </tr>\n",
              "  </tbody>\n",
              "</table>\n",
              "</div>"
            ],
            "text/plain": [
              "  Title Score User\n",
              "0    랑종     2   랑종\n",
              "1    랑종     2   랑종\n",
              "2    랑종    10   랑종\n",
              "3    랑종     8   랑종\n",
              "4    랑종    10   랑종\n",
              "5    랑종     4   랑종\n",
              "6    랑종     9   랑종\n",
              "7    랑종     8   랑종\n",
              "8    랑종     6   랑종\n",
              "9    랑종    10   랑종"
            ]
          },
          "metadata": {
            "tags": []
          },
          "execution_count": 43
        }
      ]
    },
    {
      "cell_type": "code",
      "metadata": {
        "id": "S7E9AB3g4yZT"
      },
      "source": [
        ""
      ],
      "execution_count": null,
      "outputs": []
    }
  ]
}