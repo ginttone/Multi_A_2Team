{
 "cells": [
  {
   "cell_type": "code",
   "execution_count": 1,
   "id": "46753f1c",
   "metadata": {},
   "outputs": [],
   "source": [
    "from bs4 import BeautifulSoup"
   ]
  },
  {
   "cell_type": "code",
   "execution_count": 2,
   "id": "7c8ac0a2",
   "metadata": {},
   "outputs": [],
   "source": [
    "import requests"
   ]
  },
  {
   "cell_type": "code",
   "execution_count": 3,
   "id": "09297012",
   "metadata": {},
   "outputs": [],
   "source": [
    "path = 'https://movie.naver.com/movie/point/af/list.naver'\n",
    "req = requests.get(path)"
   ]
  },
  {
   "cell_type": "code",
   "execution_count": 4,
   "id": "e0ec85b3",
   "metadata": {},
   "outputs": [],
   "source": [
    "soup = BeautifulSoup(req.content, 'html.parser')"
   ]
  },
  {
   "cell_type": "code",
   "execution_count": 5,
   "id": "c3ea9c7c",
   "metadata": {},
   "outputs": [
    {
     "data": {
      "text/plain": [
       "<tr>\n",
       "<td class=\"ac num\">17607773</td>\n",
       "<td class=\"title\">\n",
       "<a class=\"movie color_b\" href=\"?st=mcode&amp;sword=187322&amp;target=after\">크루엘라</a>\n",
       "<div class=\"list_netizen_score\">\n",
       "<span class=\"st_off\"><span class=\"st_on\" style=\"width:80%\">별점 - 총 10점 중</span></span><em>8</em>\n",
       "</div>\n",
       "<br/>그럭저럭 볼만한데 약간 케이드라마 영향을 받은건가 싶은 부분도 있었음 \n",
       "\t\t\t\n",
       "\t\t\t\n",
       "\t\t\t\n",
       "\t\t\t\t\n",
       "\t\t\t\t\n",
       "\t\t\t\t\n",
       "\t\t\t\t<a class=\"report\" href=\"#\" onclick=\"report('zuan****', 'nQlEVGdBC8k+rRMNZSzIT9SNRFMpwpC6mruFDnnavRw=', '그럭저럭 볼만한데 약간 케이드라마 영향을 받은건가 싶은 부분도 있었음', '17607773', 'point_after');\" style=\"color:#8F8F8F\" title=\"새 창\">신고</a>\n",
       "</td>\n",
       "<td class=\"num\"><a class=\"author\" href=\"javascript:find_list('nickname','17607773', 'after');\">zuan****</a><br/>21.07.20</td>\n",
       "</tr>"
      ]
     },
     "execution_count": 5,
     "metadata": {},
     "output_type": "execute_result"
    }
   ],
   "source": [
    "movies = soup.select('tbody > tr')\n",
    "movie = movies[0]\n",
    "movie"
   ]
  },
  {
   "cell_type": "code",
   "execution_count": 6,
   "id": "b420450c",
   "metadata": {},
   "outputs": [
    {
     "data": {
      "text/plain": [
       "[<a class=\"movie color_b\" href=\"?st=mcode&amp;sword=187322&amp;target=after\">크루엘라</a>]"
      ]
     },
     "execution_count": 6,
     "metadata": {},
     "output_type": "execute_result"
    }
   ],
   "source": [
    "title = movie.select('a.movie')\n",
    "title"
   ]
  },
  {
   "cell_type": "code",
   "execution_count": 7,
   "id": "0634aff3",
   "metadata": {},
   "outputs": [
    {
     "data": {
      "text/plain": [
       "'크루엘라'"
      ]
     },
     "execution_count": 7,
     "metadata": {},
     "output_type": "execute_result"
    }
   ],
   "source": [
    "title[0].text.strip()"
   ]
  },
  {
   "cell_type": "code",
   "execution_count": 8,
   "id": "bf100a41",
   "metadata": {},
   "outputs": [
    {
     "data": {
      "text/plain": [
       "[<em>8</em>]"
      ]
     },
     "execution_count": 8,
     "metadata": {},
     "output_type": "execute_result"
    }
   ],
   "source": [
    "score = movie.select('td > div > em')\n",
    "score"
   ]
  },
  {
   "cell_type": "code",
   "execution_count": 9,
   "id": "6e1c156c",
   "metadata": {},
   "outputs": [
    {
     "data": {
      "text/plain": [
       "'8'"
      ]
     },
     "execution_count": 9,
     "metadata": {},
     "output_type": "execute_result"
    }
   ],
   "source": [
    "score[0].text.strip()"
   ]
  },
  {
   "cell_type": "code",
   "execution_count": 10,
   "id": "55a1d745",
   "metadata": {},
   "outputs": [
    {
     "data": {
      "text/plain": [
       "[<a class=\"author\" href=\"javascript:find_list('nickname','17607773', 'after');\">zuan****</a>]"
      ]
     },
     "execution_count": 10,
     "metadata": {},
     "output_type": "execute_result"
    }
   ],
   "source": [
    "author = movie.select('a.author')\n",
    "author"
   ]
  },
  {
   "cell_type": "code",
   "execution_count": 11,
   "id": "fdbccded",
   "metadata": {},
   "outputs": [
    {
     "data": {
      "text/plain": [
       "'zuan****'"
      ]
     },
     "execution_count": 11,
     "metadata": {},
     "output_type": "execute_result"
    }
   ],
   "source": [
    "author[0].text.strip()"
   ]
  },
  {
   "cell_type": "markdown",
   "id": "8f75376b",
   "metadata": {},
   "source": [
    "https://movie.naver.com/movie/point/af/list.naver?&page=1"
   ]
  },
  {
   "cell_type": "code",
   "execution_count": 19,
   "id": "3766f7bb",
   "metadata": {},
   "outputs": [
    {
     "name": "stdout",
     "output_type": "stream",
     "text": [
      "https://movie.naver.com/movie/point/af/list.naver?&page=1\n",
      "https://movie.naver.com/movie/point/af/list.naver?&page=2\n",
      "https://movie.naver.com/movie/point/af/list.naver?&page=3\n",
      "https://movie.naver.com/movie/point/af/list.naver?&page=4\n",
      "https://movie.naver.com/movie/point/af/list.naver?&page=5\n",
      "https://movie.naver.com/movie/point/af/list.naver?&page=6\n",
      "https://movie.naver.com/movie/point/af/list.naver?&page=7\n",
      "https://movie.naver.com/movie/point/af/list.naver?&page=8\n",
      "https://movie.naver.com/movie/point/af/list.naver?&page=9\n",
      "https://movie.naver.com/movie/point/af/list.naver?&page=10\n",
      "https://movie.naver.com/movie/point/af/list.naver?&page=11\n",
      "https://movie.naver.com/movie/point/af/list.naver?&page=12\n",
      "https://movie.naver.com/movie/point/af/list.naver?&page=13\n",
      "https://movie.naver.com/movie/point/af/list.naver?&page=14\n",
      "https://movie.naver.com/movie/point/af/list.naver?&page=15\n",
      "https://movie.naver.com/movie/point/af/list.naver?&page=16\n",
      "https://movie.naver.com/movie/point/af/list.naver?&page=17\n",
      "https://movie.naver.com/movie/point/af/list.naver?&page=18\n",
      "https://movie.naver.com/movie/point/af/list.naver?&page=19\n",
      "https://movie.naver.com/movie/point/af/list.naver?&page=20\n",
      "https://movie.naver.com/movie/point/af/list.naver?&page=21\n",
      "https://movie.naver.com/movie/point/af/list.naver?&page=22\n",
      "https://movie.naver.com/movie/point/af/list.naver?&page=23\n",
      "https://movie.naver.com/movie/point/af/list.naver?&page=24\n",
      "https://movie.naver.com/movie/point/af/list.naver?&page=25\n",
      "https://movie.naver.com/movie/point/af/list.naver?&page=26\n",
      "https://movie.naver.com/movie/point/af/list.naver?&page=27\n",
      "https://movie.naver.com/movie/point/af/list.naver?&page=28\n",
      "https://movie.naver.com/movie/point/af/list.naver?&page=29\n",
      "https://movie.naver.com/movie/point/af/list.naver?&page=30\n",
      "https://movie.naver.com/movie/point/af/list.naver?&page=31\n",
      "https://movie.naver.com/movie/point/af/list.naver?&page=32\n",
      "https://movie.naver.com/movie/point/af/list.naver?&page=33\n",
      "https://movie.naver.com/movie/point/af/list.naver?&page=34\n",
      "https://movie.naver.com/movie/point/af/list.naver?&page=35\n",
      "https://movie.naver.com/movie/point/af/list.naver?&page=36\n",
      "https://movie.naver.com/movie/point/af/list.naver?&page=37\n",
      "https://movie.naver.com/movie/point/af/list.naver?&page=38\n",
      "https://movie.naver.com/movie/point/af/list.naver?&page=39\n",
      "https://movie.naver.com/movie/point/af/list.naver?&page=40\n",
      "https://movie.naver.com/movie/point/af/list.naver?&page=41\n",
      "https://movie.naver.com/movie/point/af/list.naver?&page=42\n",
      "https://movie.naver.com/movie/point/af/list.naver?&page=43\n",
      "https://movie.naver.com/movie/point/af/list.naver?&page=44\n",
      "https://movie.naver.com/movie/point/af/list.naver?&page=45\n",
      "https://movie.naver.com/movie/point/af/list.naver?&page=46\n",
      "https://movie.naver.com/movie/point/af/list.naver?&page=47\n",
      "https://movie.naver.com/movie/point/af/list.naver?&page=48\n",
      "https://movie.naver.com/movie/point/af/list.naver?&page=49\n",
      "https://movie.naver.com/movie/point/af/list.naver?&page=50\n",
      "https://movie.naver.com/movie/point/af/list.naver?&page=51\n",
      "https://movie.naver.com/movie/point/af/list.naver?&page=52\n",
      "https://movie.naver.com/movie/point/af/list.naver?&page=53\n",
      "https://movie.naver.com/movie/point/af/list.naver?&page=54\n",
      "https://movie.naver.com/movie/point/af/list.naver?&page=55\n",
      "https://movie.naver.com/movie/point/af/list.naver?&page=56\n",
      "https://movie.naver.com/movie/point/af/list.naver?&page=57\n",
      "https://movie.naver.com/movie/point/af/list.naver?&page=58\n",
      "https://movie.naver.com/movie/point/af/list.naver?&page=59\n",
      "https://movie.naver.com/movie/point/af/list.naver?&page=60\n",
      "https://movie.naver.com/movie/point/af/list.naver?&page=61\n",
      "https://movie.naver.com/movie/point/af/list.naver?&page=62\n",
      "https://movie.naver.com/movie/point/af/list.naver?&page=63\n",
      "https://movie.naver.com/movie/point/af/list.naver?&page=64\n",
      "https://movie.naver.com/movie/point/af/list.naver?&page=65\n",
      "https://movie.naver.com/movie/point/af/list.naver?&page=66\n",
      "https://movie.naver.com/movie/point/af/list.naver?&page=67\n",
      "https://movie.naver.com/movie/point/af/list.naver?&page=68\n",
      "https://movie.naver.com/movie/point/af/list.naver?&page=69\n",
      "https://movie.naver.com/movie/point/af/list.naver?&page=70\n",
      "https://movie.naver.com/movie/point/af/list.naver?&page=71\n",
      "https://movie.naver.com/movie/point/af/list.naver?&page=72\n",
      "https://movie.naver.com/movie/point/af/list.naver?&page=73\n",
      "https://movie.naver.com/movie/point/af/list.naver?&page=74\n",
      "https://movie.naver.com/movie/point/af/list.naver?&page=75\n",
      "https://movie.naver.com/movie/point/af/list.naver?&page=76\n",
      "https://movie.naver.com/movie/point/af/list.naver?&page=77\n",
      "https://movie.naver.com/movie/point/af/list.naver?&page=78\n",
      "https://movie.naver.com/movie/point/af/list.naver?&page=79\n",
      "https://movie.naver.com/movie/point/af/list.naver?&page=80\n",
      "https://movie.naver.com/movie/point/af/list.naver?&page=81\n",
      "https://movie.naver.com/movie/point/af/list.naver?&page=82\n",
      "https://movie.naver.com/movie/point/af/list.naver?&page=83\n",
      "https://movie.naver.com/movie/point/af/list.naver?&page=84\n",
      "https://movie.naver.com/movie/point/af/list.naver?&page=85\n",
      "https://movie.naver.com/movie/point/af/list.naver?&page=86\n",
      "https://movie.naver.com/movie/point/af/list.naver?&page=87\n",
      "https://movie.naver.com/movie/point/af/list.naver?&page=88\n",
      "https://movie.naver.com/movie/point/af/list.naver?&page=89\n",
      "https://movie.naver.com/movie/point/af/list.naver?&page=90\n",
      "https://movie.naver.com/movie/point/af/list.naver?&page=91\n",
      "https://movie.naver.com/movie/point/af/list.naver?&page=92\n",
      "https://movie.naver.com/movie/point/af/list.naver?&page=93\n",
      "https://movie.naver.com/movie/point/af/list.naver?&page=94\n",
      "https://movie.naver.com/movie/point/af/list.naver?&page=95\n",
      "https://movie.naver.com/movie/point/af/list.naver?&page=96\n",
      "https://movie.naver.com/movie/point/af/list.naver?&page=97\n",
      "https://movie.naver.com/movie/point/af/list.naver?&page=98\n",
      "https://movie.naver.com/movie/point/af/list.naver?&page=99\n",
      "https://movie.naver.com/movie/point/af/list.naver?&page=100\n"
     ]
    },
    {
     "data": {
      "text/plain": [
       "1000"
      ]
     },
     "execution_count": 19,
     "metadata": {},
     "output_type": "execute_result"
    }
   ],
   "source": [
    "uri = 'https://movie.naver.com/movie/point/af/list.naver?&page='\n",
    "data = [] # or list()\n",
    "\n",
    "for page in range(1,101):\n",
    "    target = uri+str(page)\n",
    "    print(target)\n",
    "    req  = requests.get(target)\n",
    "    soup = BeautifulSoup(req.content,'html.parser')\n",
    "    movies = soup.select('tbody > tr')\n",
    "\n",
    "    for movie in movies:\n",
    "        title = movie.select('a.movie')\n",
    "        score = movie.select('td > div > em')\n",
    "        author = movie.select('a.author')\n",
    "        data.append([title[0].text.strip(),score[0].text.strip(), author[0].text.strip()])\n",
    "len(data)"
   ]
  },
  {
   "cell_type": "code",
   "execution_count": 17,
   "id": "66326766",
   "metadata": {},
   "outputs": [
    {
     "data": {
      "text/plain": [
       "[['블랙 위도우', '10', 'dnjs****'],\n",
       " ['더 이퀄라이저 2', '5', 'goau****'],\n",
       " ['랑종', '2', 'deho****'],\n",
       " ['랑종', '1', 'cina****'],\n",
       " ['극장판 귀멸의 칼날: 무한열차편', '10', 'ambe****'],\n",
       " ['꽃다발 같은 사랑을 했다', '9', 'yd13****'],\n",
       " ['꽃다발 같은 사랑을 했다', '10', 'dldd****'],\n",
       " ['블랙 위도우', '10', 'wedd****'],\n",
       " ['블랙 위도우', '4', 'allm****'],\n",
       " ['랑종', '1', 'khi0****'],\n",
       " ['랑종', '6', 'fxgk****'],\n",
       " ['크루엘라', '8', 'zuan****'],\n",
       " ['랑종', '8', 'dnsw****'],\n",
       " ['랑종', '2', 'myyg****'],\n",
       " ['블랙 위도우', '10', 'sall****'],\n",
       " ['조', '7', 'jysl****'],\n",
       " ['랑종', '1', 'dbdl****'],\n",
       " ['악인전', '8', 'dlxo****'],\n",
       " ['진저 앤 로사', '7', 'yjch****'],\n",
       " ['곡성(哭聲)', '4', 'kmca****'],\n",
       " ['인시디어스: 두번째 집', '10', 'suji****'],\n",
       " ['랑종', '6', 'ass0****'],\n",
       " ['블루 재스민', '10', 'youn****'],\n",
       " ['인시디어스', '10', 'suji****'],\n",
       " ['밤쉘: 세상을 바꾼 폭탄선언', '10', 'chzh****'],\n",
       " ['랑종', '1', 'deux****'],\n",
       " ['랑종', '10', 'whoa****'],\n",
       " ['빛나는 순간', '10', 'aoao****'],\n",
       " ['랑종', '10', 'hjh9****'],\n",
       " ['어린왕자', '10', 'jjyy****'],\n",
       " ['실버 스케이트', '10', 'apri****'],\n",
       " ['발신제한', '8', 'wonp****'],\n",
       " ['발신제한', '7', 'inyo****'],\n",
       " ['블랙 위도우', '10', 'qtww****'],\n",
       " ['제5침공', '1', 'vint****'],\n",
       " ['블랙 위도우', '10', 'dhsw****'],\n",
       " ['크루엘라', '8', 'disk****'],\n",
       " ['블랙 위도우', '10', 'wjsc****'],\n",
       " ['크리스마스에는 행복이', '10', 'byl0****'],\n",
       " ['랑종', '10', 'coco****'],\n",
       " ['랑종', '5', 'sial****'],\n",
       " ['타락천사', '5', 'kmjj****'],\n",
       " ['랑종', '4', 'seym****'],\n",
       " ['랑종', '8', 'gaga****'],\n",
       " ['파이프라인', '10', 'boss****'],\n",
       " ['라디오 스타', '10', 'stpa****'],\n",
       " ['쉘 위 댄스', '8', 'goel****'],\n",
       " ['랑종', '4', 'gusw****'],\n",
       " ['순수의 시대', '1', 'taku****'],\n",
       " ['랑종', '4', 'whgs****'],\n",
       " ['랑종', '4', 'whgs****'],\n",
       " ['천문: 하늘에 묻는다', '10', 'rnfk****'],\n",
       " ['제8일의 밤', '2', 'bigb****'],\n",
       " ['어벤져스: 엔드게임', '10', 'qpqp****'],\n",
       " ['내일의 기억', '10', 'este****'],\n",
       " ['마네의 제비꽃 여인: 베르트 모리조', '5', 'bimi****'],\n",
       " ['블랙 위도우', '10', 'shou****'],\n",
       " ['비스트 오브 노 네이션', '8', 'a109****'],\n",
       " ['랑종', '4', '2qud****'],\n",
       " ['크래쉬', '6', 'tain****'],\n",
       " ['랑종', '1', 'dlag****'],\n",
       " ['애드 아스트라', '10', '0062****'],\n",
       " ['오아시스', '10', 'rnst****'],\n",
       " ['블랙 위도우', '10', 'yeoj****'],\n",
       " ['드래곤 길들이기', '10', 'eric****'],\n",
       " ['랑종', '10', 'moza****'],\n",
       " ['랑종', '1', 'skna****'],\n",
       " ['랑종', '4', 'blac****'],\n",
       " ['블랙 위도우', '7', 'letz****'],\n",
       " ['스타 이즈 본', '10', 'pana****'],\n",
       " ['콘 에어', '10', 'cjm1****'],\n",
       " ['랑종', '10', 'kims****'],\n",
       " ['랑종', '6', 'kmj0****'],\n",
       " ['랑종', '10', 'yjkn****'],\n",
       " ['랑종', '1', 'poll****'],\n",
       " ['페이스 오프', '10', 'cjm1****'],\n",
       " ['랑종', '10', 'viny****'],\n",
       " ['랑종', '1', 'gjsw****'],\n",
       " ['블랙 위도우', '10', 'cbg9****'],\n",
       " ['은밀한 유혹', '10', 'perf****'],\n",
       " ['돌멩이', '10', 'zeno****'],\n",
       " ['오! 문희', '8', 'haha****'],\n",
       " ['블랙 위도우', '1', 'pigu****'],\n",
       " ['괴기맨숀', '1', 'jiny****'],\n",
       " ['블랙 위도우', '10', 'soie****'],\n",
       " ['랑종', '8', 'ghod****'],\n",
       " ['랑종', '6', 'uda_****'],\n",
       " ['랑종', '8', 'tkdg****'],\n",
       " ['클라이밍', '6', 'ygh1****'],\n",
       " ['미술관 옆 동물원', '10', 'ddee****'],\n",
       " ['랑종', '1', 'dbsr****'],\n",
       " ['오만과 편견', '10', 'jenn****'],\n",
       " ['블랙 위도우', '10', 'minh****'],\n",
       " ['이스케이프 룸 2: 노 웨이 아웃', '10', 'jun_****'],\n",
       " ['랑종', '10', 'bohe****'],\n",
       " ['오필리아', '8', 'neth****'],\n",
       " ['사랑은 비가 갠 뒤처럼', '9', 'yjbg****'],\n",
       " ['발신제한', '2', 'suk_****'],\n",
       " ['이스케이프 룸 2: 노 웨이 아웃', '1', 'golf****'],\n",
       " ['랑종', '6', 'kitt****'],\n",
       " ['랑종', '3', 'uopt****'],\n",
       " ['랑종', '7', 'nsho****'],\n",
       " ['뺑반', '6', 'rhsr****'],\n",
       " ['코쿠리코 언덕에서', '1', 'park****'],\n",
       " ['오! 문희', '10', 'wari****'],\n",
       " ['랑종', '1', 'plo0****'],\n",
       " ['와인 패밀리', '10', 'gmlw****'],\n",
       " ['스테이션 7', '10', 'dwle****'],\n",
       " ['크루엘라', '10', 'wjdt****'],\n",
       " ['그린랜드', '10', 'ryub****'],\n",
       " ['로마', '10', 'hski****'],\n",
       " ['킬러의 보디가드 2', '6', 'wjdt****'],\n",
       " ['괴기맨숀', '10', 'semi****'],\n",
       " ['랑종', '10', 'lkyk****'],\n",
       " ['블랙 위도우', '10', 'kkun****'],\n",
       " ['더 이퀄라이저 2', '10', 'gndk****'],\n",
       " ['발신제한', '1', 'moch****'],\n",
       " ['랑종', '9', 'sung****'],\n",
       " ['블랙 위도우', '10', 'wjdt****'],\n",
       " ['백두산', '10', 'goom****'],\n",
       " ['블랙 위도우', '10', 'ong_****'],\n",
       " ['어스', '7', 'glts****'],\n",
       " ['랑종', '10', 'geeh****'],\n",
       " ['랑종', '1', 'beth****'],\n",
       " ['랑종', '1', 'jdy2****'],\n",
       " ['블랙 위도우', '6', 'nasr****'],\n",
       " ['언스토퍼블', '10', 'bsrs****'],\n",
       " ['미드나이트', '2', 'i_wl****'],\n",
       " ['랑종', '1', 'hdon****'],\n",
       " ['자칼', '9', 'kkm0****'],\n",
       " ['로그', '3', 'newf****'],\n",
       " ['미드소마', '1', 'bana****'],\n",
       " ['랑종', '10', 'kimj****'],\n",
       " ['괴기맨숀', '7', 'm79y****'],\n",
       " ['랑종', '8', 'jhst****'],\n",
       " ['랑종', '1', 'naga****'],\n",
       " ['나의 첫 번째 슈퍼스타', '5', 'mkwo****'],\n",
       " ['주먹이 운다', '10', 'ehsw****'],\n",
       " ['돌멩이', '1', 'k951****'],\n",
       " ['랑종', '4', 'ekgp****'],\n",
       " ['블랙 위도우', '2', 'nvr5****'],\n",
       " ['블랙 위도우', '10', 'kdy1****'],\n",
       " ['블랙 위도우', '10', 'smin****'],\n",
       " ['꽃다발 같은 사랑을 했다', '7', 'ucck****'],\n",
       " ['랑종', '2', 'd351****'],\n",
       " ['랑종', '4', 'kari****'],\n",
       " ['트루먼 쇼', '10', 'bran****'],\n",
       " ['기동전사 건담: 섬광의 하사웨이', '10', 'bong****'],\n",
       " ['랑종', '1', 'thek****'],\n",
       " ['랑종', '1', 'smin****'],\n",
       " ['블랙 위도우', '9', 'ljw0****'],\n",
       " ['랑종', '4', 'flol****'],\n",
       " ['컨저링 3: 악마가 시켰다', '1', 'rlag****'],\n",
       " ['가을 날의 동화', '10', 'ghcp****'],\n",
       " ['크루엘라', '10', 'dail****'],\n",
       " ['돌멩이', '2', 'hyej****'],\n",
       " ['랑종', '10', 'macl****'],\n",
       " ['사랑이 뭘까', '6', 'swan****'],\n",
       " ['랑종', '6', 'jung****'],\n",
       " ['발신제한', '6', 'jwjw****'],\n",
       " ['내겐 너무 소중한 너', '10', 'ncbe****'],\n",
       " ['아수라', '8', 'dlaw****'],\n",
       " ['바닐라 스카이', '10', 'keep****'],\n",
       " ['랑종', '9', 'wjda****'],\n",
       " ['블랙 위도우', '10', 'ihsa****'],\n",
       " ['러브픽션', '10', 'chur****'],\n",
       " ['어벤져스: 엔드게임', '10', 'ball****'],\n",
       " ['어메이징 그레이스', '10', 'bgty****'],\n",
       " ['어린왕자', '8', 'soej****'],\n",
       " ['암모나이트', '9', 'acti****'],\n",
       " ['도어락', '8', 'rose****'],\n",
       " ['랑종', '1', 'ddds****'],\n",
       " ['랑종', '7', 'peac****'],\n",
       " ['조제, 호랑이 그리고 물고기들', '10', 'yuha****'],\n",
       " ['랑종', '1', 'chee****'],\n",
       " ['극장판 귀멸의 칼날: 무한열차편', '10', 'hoho****'],\n",
       " ['랑종', '1', 'ghdt****'],\n",
       " ['파라독스', '7', 'pass****'],\n",
       " ['발신제한', '1', 'knco****'],\n",
       " ['랑종', '2', 'ksm9****'],\n",
       " ['랑종', '1', 'sung****'],\n",
       " ['블랙 위도우', '10', 'hj77****'],\n",
       " ['월-E', '10', 'juno****'],\n",
       " ['괴기맨숀', '10', 'mijo****'],\n",
       " ['명장', '10', 'kez6****'],\n",
       " ['돌멩이', '10', 'ming****'],\n",
       " ['랑종', '10', 'boss****'],\n",
       " ['신과함께-죄와 벌', '10', 'cmki****'],\n",
       " ['해피 피트 2', '10', 'dmsg****'],\n",
       " ['랑종', '1', 'astr****'],\n",
       " ['랑종', '2', 'dlsk****'],\n",
       " ['돌멩이', '6', 'ance****'],\n",
       " ['폭풍의 언덕', '2', 'phil****'],\n",
       " ['발신제한', '10', 'pss1****'],\n",
       " ['랑종', '10', 'dldi****'],\n",
       " ['크루엘라', '10', 'minj****'],\n",
       " ['랑종', '10', 'gomb****'],\n",
       " ['핸콕', '9', 'maxs****'],\n",
       " ['랑종', '10', 'newc****'],\n",
       " ['랑종', '10', 'ozil****']]"
      ]
     },
     "execution_count": 17,
     "metadata": {},
     "output_type": "execute_result"
    }
   ],
   "source": [
    "data"
   ]
  },
  {
   "cell_type": "code",
   "execution_count": 22,
   "id": "4ec0e410",
   "metadata": {},
   "outputs": [],
   "source": [
    "import pandas as pd"
   ]
  },
  {
   "cell_type": "code",
   "execution_count": 24,
   "id": "f0756fa9",
   "metadata": {},
   "outputs": [
    {
     "data": {
      "text/html": [
       "<div>\n",
       "<style scoped>\n",
       "    .dataframe tbody tr th:only-of-type {\n",
       "        vertical-align: middle;\n",
       "    }\n",
       "\n",
       "    .dataframe tbody tr th {\n",
       "        vertical-align: top;\n",
       "    }\n",
       "\n",
       "    .dataframe thead th {\n",
       "        text-align: right;\n",
       "    }\n",
       "</style>\n",
       "<table border=\"1\" class=\"dataframe\">\n",
       "  <thead>\n",
       "    <tr style=\"text-align: right;\">\n",
       "      <th></th>\n",
       "      <th>Title</th>\n",
       "      <th>Score</th>\n",
       "      <th>Author</th>\n",
       "    </tr>\n",
       "  </thead>\n",
       "  <tbody>\n",
       "    <tr>\n",
       "      <th>0</th>\n",
       "      <td>어린왕자</td>\n",
       "      <td>8</td>\n",
       "      <td>hotp****</td>\n",
       "    </tr>\n",
       "    <tr>\n",
       "      <th>1</th>\n",
       "      <td>내일의 기억</td>\n",
       "      <td>1</td>\n",
       "      <td>sksm****</td>\n",
       "    </tr>\n",
       "    <tr>\n",
       "      <th>2</th>\n",
       "      <td>소울</td>\n",
       "      <td>10</td>\n",
       "      <td>llle****</td>\n",
       "    </tr>\n",
       "    <tr>\n",
       "      <th>3</th>\n",
       "      <td>블랙 위도우</td>\n",
       "      <td>10</td>\n",
       "      <td>dnjs****</td>\n",
       "    </tr>\n",
       "    <tr>\n",
       "      <th>4</th>\n",
       "      <td>더 이퀄라이저 2</td>\n",
       "      <td>5</td>\n",
       "      <td>goau****</td>\n",
       "    </tr>\n",
       "    <tr>\n",
       "      <th>...</th>\n",
       "      <td>...</td>\n",
       "      <td>...</td>\n",
       "      <td>...</td>\n",
       "    </tr>\n",
       "    <tr>\n",
       "      <th>995</th>\n",
       "      <td>블랙 위도우</td>\n",
       "      <td>6</td>\n",
       "      <td>jong****</td>\n",
       "    </tr>\n",
       "    <tr>\n",
       "      <th>996</th>\n",
       "      <td>시호</td>\n",
       "      <td>8</td>\n",
       "      <td>dldm****</td>\n",
       "    </tr>\n",
       "    <tr>\n",
       "      <th>997</th>\n",
       "      <td>랑종</td>\n",
       "      <td>10</td>\n",
       "      <td>gts5****</td>\n",
       "    </tr>\n",
       "    <tr>\n",
       "      <th>998</th>\n",
       "      <td>랑종</td>\n",
       "      <td>1</td>\n",
       "      <td>rlat****</td>\n",
       "    </tr>\n",
       "    <tr>\n",
       "      <th>999</th>\n",
       "      <td>그을린 사랑</td>\n",
       "      <td>9</td>\n",
       "      <td>damo****</td>\n",
       "    </tr>\n",
       "  </tbody>\n",
       "</table>\n",
       "<p>1000 rows × 3 columns</p>\n",
       "</div>"
      ],
      "text/plain": [
       "         Title Score    Author\n",
       "0         어린왕자     8  hotp****\n",
       "1       내일의 기억     1  sksm****\n",
       "2           소울    10  llle****\n",
       "3       블랙 위도우    10  dnjs****\n",
       "4    더 이퀄라이저 2     5  goau****\n",
       "..         ...   ...       ...\n",
       "995     블랙 위도우     6  jong****\n",
       "996         시호     8  dldm****\n",
       "997         랑종    10  gts5****\n",
       "998         랑종     1  rlat****\n",
       "999     그을린 사랑     9  damo****\n",
       "\n",
       "[1000 rows x 3 columns]"
      ]
     },
     "execution_count": 24,
     "metadata": {},
     "output_type": "execute_result"
    }
   ],
   "source": [
    "pd_data=pd.DataFrame(data, columns=['Title','Score','Author'])\n",
    "pd_data"
   ]
  },
  {
   "cell_type": "code",
   "execution_count": null,
   "id": "c5c84e42",
   "metadata": {},
   "outputs": [],
   "source": []
  },
  {
   "cell_type": "code",
   "execution_count": null,
   "id": "d4d73903",
   "metadata": {},
   "outputs": [],
   "source": []
  }
 ],
 "metadata": {
  "kernelspec": {
   "display_name": "Python 3",
   "language": "python",
   "name": "python3"
  },
  "language_info": {
   "codemirror_mode": {
    "name": "ipython",
    "version": 3
   },
   "file_extension": ".py",
   "mimetype": "text/x-python",
   "name": "python",
   "nbconvert_exporter": "python",
   "pygments_lexer": "ipython3",
   "version": "3.6.4"
  }
 },
 "nbformat": 4,
 "nbformat_minor": 5
}
