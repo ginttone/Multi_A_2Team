{
 "cells": [
  {
   "cell_type": "code",
   "execution_count": 1,
   "id": "46753f1c",
   "metadata": {},
   "outputs": [],
   "source": [
    "from bs4 import BeautifulSoup"
   ]
  },
  {
   "cell_type": "code",
   "execution_count": 2,
   "id": "7c8ac0a2",
   "metadata": {},
   "outputs": [],
   "source": [
    "import urllib.request"
   ]
  },
  {
   "cell_type": "code",
   "execution_count": 3,
   "id": "09297012",
   "metadata": {},
   "outputs": [],
   "source": [
    "from urllib.parse import quote"
   ]
  },
  {
   "cell_type": "code",
   "execution_count": 4,
   "id": "459dccb7",
   "metadata": {},
   "outputs": [],
   "source": [
    "import pandas as pd"
   ]
  },
  {
   "cell_type": "markdown",
   "id": "61ea7f1b",
   "metadata": {},
   "source": [
    "https://movie.naver.com/movie/point/af/list.naver?st=mcode&sword=\" + str(mode) + \"&target=after"
   ]
  },
  {
   "cell_type": "code",
   "execution_count": 5,
   "id": "7ae1d855",
   "metadata": {},
   "outputs": [],
   "source": [
    "def get_movie_reviews(mcode, page_num=10):\n",
    "    movie_review_df = pd.DataFrame(columns=('Title','Score'))\n",
    "    url = \"https://movie.naver.com/movie/point/af/list.naver?st=mcode&sword=\" + str(mcode) + \"&target=after\"\n",
    "    idx = 0\n",
    "\n",
    "    for _ in range(0, page_num):\n",
    "        movie_page = urllib.request.urlopen(url).read()\n",
    "        movie_page_soup = BeautifulSoup(movie_page,'html.parser')\n",
    "        review_list = movie_page_soup.find_all('td', {'class':'title'})\n",
    "\n",
    "        for review in review_list:\n",
    "            title = review.find('a',{'class':'movie color_b'}).get_text()\n",
    "            score = review.find('em').get_text()\n",
    "            movie_review_df.loc[idx] = [title, score]\n",
    "            idx += 1\n",
    "            print('#', end='')\n",
    "\n",
    "        try:\n",
    "            url = \"https://movie.naver.com\" + movie_page_soup.find('a', {'class':'pg_next'}).get('href')\n",
    "#             print(url)\n",
    "        except:\n",
    "            break\n",
    "        \n",
    "    return movie_review_df"
   ]
  },
  {
   "cell_type": "code",
   "execution_count": 6,
   "id": "651e1352",
   "metadata": {},
   "outputs": [
    {
     "name": "stdout",
     "output_type": "stream",
     "text": [
      "####################################################################################################"
     ]
    },
    {
     "data": {
      "text/html": [
       "<div>\n",
       "<style scoped>\n",
       "    .dataframe tbody tr th:only-of-type {\n",
       "        vertical-align: middle;\n",
       "    }\n",
       "\n",
       "    .dataframe tbody tr th {\n",
       "        vertical-align: top;\n",
       "    }\n",
       "\n",
       "    .dataframe thead th {\n",
       "        text-align: right;\n",
       "    }\n",
       "</style>\n",
       "<table border=\"1\" class=\"dataframe\">\n",
       "  <thead>\n",
       "    <tr style=\"text-align: right;\">\n",
       "      <th></th>\n",
       "      <th>Title</th>\n",
       "      <th>Score</th>\n",
       "    </tr>\n",
       "  </thead>\n",
       "  <tbody>\n",
       "    <tr>\n",
       "      <th>0</th>\n",
       "      <td>타이타닉</td>\n",
       "      <td>10</td>\n",
       "    </tr>\n",
       "    <tr>\n",
       "      <th>1</th>\n",
       "      <td>타이타닉</td>\n",
       "      <td>10</td>\n",
       "    </tr>\n",
       "    <tr>\n",
       "      <th>2</th>\n",
       "      <td>타이타닉</td>\n",
       "      <td>10</td>\n",
       "    </tr>\n",
       "    <tr>\n",
       "      <th>3</th>\n",
       "      <td>타이타닉</td>\n",
       "      <td>10</td>\n",
       "    </tr>\n",
       "    <tr>\n",
       "      <th>4</th>\n",
       "      <td>타이타닉</td>\n",
       "      <td>10</td>\n",
       "    </tr>\n",
       "    <tr>\n",
       "      <th>...</th>\n",
       "      <td>...</td>\n",
       "      <td>...</td>\n",
       "    </tr>\n",
       "    <tr>\n",
       "      <th>95</th>\n",
       "      <td>타이타닉</td>\n",
       "      <td>10</td>\n",
       "    </tr>\n",
       "    <tr>\n",
       "      <th>96</th>\n",
       "      <td>타이타닉</td>\n",
       "      <td>10</td>\n",
       "    </tr>\n",
       "    <tr>\n",
       "      <th>97</th>\n",
       "      <td>타이타닉</td>\n",
       "      <td>10</td>\n",
       "    </tr>\n",
       "    <tr>\n",
       "      <th>98</th>\n",
       "      <td>타이타닉</td>\n",
       "      <td>10</td>\n",
       "    </tr>\n",
       "    <tr>\n",
       "      <th>99</th>\n",
       "      <td>타이타닉</td>\n",
       "      <td>10</td>\n",
       "    </tr>\n",
       "  </tbody>\n",
       "</table>\n",
       "<p>100 rows × 2 columns</p>\n",
       "</div>"
      ],
      "text/plain": [
       "   Title Score\n",
       "0   타이타닉    10\n",
       "1   타이타닉    10\n",
       "2   타이타닉    10\n",
       "3   타이타닉    10\n",
       "4   타이타닉    10\n",
       "..   ...   ...\n",
       "95  타이타닉    10\n",
       "96  타이타닉    10\n",
       "97  타이타닉    10\n",
       "98  타이타닉    10\n",
       "99  타이타닉    10\n",
       "\n",
       "[100 rows x 2 columns]"
      ]
     },
     "execution_count": 6,
     "metadata": {},
     "output_type": "execute_result"
    }
   ],
   "source": [
    "movie_review_df = get_movie_reviews(18847, 10)\n",
    "movie_review_df"
   ]
  },
  {
   "cell_type": "code",
   "execution_count": null,
   "id": "7481fcaa",
   "metadata": {},
   "outputs": [],
   "source": [
    "url = \"https://movie.naver.com/movie/point/af/list.naver\"\n",
    "naver_movie = urllib.request.urlopen(url).read()"
   ]
  }
 ],
 "metadata": {
  "kernelspec": {
   "display_name": "Python 3",
   "language": "python",
   "name": "python3"
  },
  "language_info": {
   "codemirror_mode": {
    "name": "ipython",
    "version": 3
   },
   "file_extension": ".py",
   "mimetype": "text/x-python",
   "name": "python",
   "nbconvert_exporter": "python",
   "pygments_lexer": "ipython3",
   "version": "3.6.4"
  }
 },
 "nbformat": 4,
 "nbformat_minor": 5
}
