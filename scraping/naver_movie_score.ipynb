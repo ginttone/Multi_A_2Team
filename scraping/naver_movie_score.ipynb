{
 "cells": [
  {
   "cell_type": "code",
   "execution_count": 12,
   "id": "46753f1c",
   "metadata": {},
   "outputs": [],
   "source": [
    "from bs4 import BeautifulSoup"
   ]
  },
  {
   "cell_type": "code",
   "execution_count": 13,
   "id": "7c8ac0a2",
   "metadata": {},
   "outputs": [],
   "source": [
    "import urllib.request"
   ]
  },
  {
   "cell_type": "code",
   "execution_count": 14,
   "id": "09297012",
   "metadata": {},
   "outputs": [],
   "source": [
    "from urllib.parse import quote"
   ]
  },
  {
   "cell_type": "code",
   "execution_count": 15,
   "id": "459dccb7",
   "metadata": {},
   "outputs": [],
   "source": [
    "import pandas as pd"
   ]
  },
  {
   "cell_type": "markdown",
   "id": "61ea7f1b",
   "metadata": {},
   "source": [
    "https://movie.naver.com/movie/point/af/list.naver?st=mcode&sword=\" + str(mode) + \"&target=after"
   ]
  },
  {
   "cell_type": "code",
   "execution_count": 27,
   "id": "7ae1d855",
   "metadata": {},
   "outputs": [],
   "source": [
    "def get_movie_reviews(mcode, page_num=10):\n",
    "    movie_review_df = pd.DataFrame(columns=('Title','Score', 'author'))\n",
    "    url = \"https://movie.naver.com/movie/point/af/list.naver?st=mcode&sword=\" + str(mcode) + \"&target=after\"\n",
    "    idx = 0\n",
    "\n",
    "    for _ in range(0, page_num):\n",
    "        movie_page = urllib.request.urlopen(url).read()\n",
    "        movie_page_soup = BeautifulSoup(movie_page,'html.parser')\n",
    "        review_list = movie_page_soup.find_all('td', {'class':'title'})\n",
    "\n",
    "        for review in review_list:\n",
    "            title = review.find('a',{'class':'movie color_b'}).get_text()\n",
    "            score = review.find('em').get_text()\n",
    "            author = review.find('td.num > a.author').get_text()\n",
    "            movie_review_df.loc[idx] = [title, score, author]\n",
    "            idx += 1\n",
    "            print('#', end='')\n",
    "\n",
    "        try:\n",
    "            url = \"https://movie.naver.com\" + movie_page_soup.find('a', {'class':'pg_next'}).get('href')\n",
    "#             print(url)\n",
    "        except:\n",
    "            break\n",
    "        \n",
    "    return movie_review_df"
   ]
  },
  {
   "cell_type": "code",
   "execution_count": 28,
   "id": "651e1352",
   "metadata": {},
   "outputs": [
    {
     "ename": "NameError",
     "evalue": "name 'review' is not defined",
     "output_type": "error",
     "traceback": [
      "\u001b[1;31m---------------------------------------------------------------------------\u001b[0m",
      "\u001b[1;31mNameError\u001b[0m                                 Traceback (most recent call last)",
      "\u001b[1;32m<ipython-input-28-964794543290>\u001b[0m in \u001b[0;36m<module>\u001b[1;34m\u001b[0m\n\u001b[1;32m----> 1\u001b[1;33m \u001b[0mmovie_review_df\u001b[0m \u001b[1;33m=\u001b[0m \u001b[0mget_movie_reviews\u001b[0m\u001b[1;33m(\u001b[0m\u001b[1;36m18847\u001b[0m\u001b[1;33m,\u001b[0m \u001b[1;36m10\u001b[0m\u001b[1;33m)\u001b[0m\u001b[1;33m\u001b[0m\u001b[0m\n\u001b[0m\u001b[0;32m      2\u001b[0m \u001b[0mmovie_review_df\u001b[0m\u001b[1;33m\u001b[0m\u001b[0m\n",
      "\u001b[1;32m<ipython-input-27-0fe0792fec47>\u001b[0m in \u001b[0;36mget_movie_reviews\u001b[1;34m(mcode, page_num)\u001b[0m\n\u001b[0;32m      8\u001b[0m         \u001b[0mmovie_page_soup\u001b[0m \u001b[1;33m=\u001b[0m \u001b[0mBeautifulSoup\u001b[0m\u001b[1;33m(\u001b[0m\u001b[0mmovie_page\u001b[0m\u001b[1;33m,\u001b[0m\u001b[1;34m'html.parser'\u001b[0m\u001b[1;33m)\u001b[0m\u001b[1;33m\u001b[0m\u001b[0m\n\u001b[0;32m      9\u001b[0m         \u001b[0mreview_list\u001b[0m \u001b[1;33m=\u001b[0m \u001b[0mmovie_page_soup\u001b[0m\u001b[1;33m.\u001b[0m\u001b[0mfind_all\u001b[0m\u001b[1;33m(\u001b[0m\u001b[1;34m'td'\u001b[0m\u001b[1;33m,\u001b[0m \u001b[1;33m{\u001b[0m\u001b[1;34m'class'\u001b[0m\u001b[1;33m:\u001b[0m\u001b[1;34m'title'\u001b[0m\u001b[1;33m}\u001b[0m\u001b[1;33m)\u001b[0m\u001b[1;33m\u001b[0m\u001b[0m\n\u001b[1;32m---> 10\u001b[1;33m         \u001b[0mauthor\u001b[0m \u001b[1;33m=\u001b[0m \u001b[0mreview\u001b[0m\u001b[1;33m.\u001b[0m\u001b[0mfind\u001b[0m\u001b[1;33m(\u001b[0m\u001b[1;34m'td.num > a.author'\u001b[0m\u001b[1;33m)\u001b[0m\u001b[1;33m.\u001b[0m\u001b[0mget_text\u001b[0m\u001b[1;33m(\u001b[0m\u001b[1;33m)\u001b[0m\u001b[1;33m\u001b[0m\u001b[0m\n\u001b[0m\u001b[0;32m     11\u001b[0m         \u001b[0mprint\u001b[0m\u001b[1;33m(\u001b[0m\u001b[0mauthor\u001b[0m\u001b[1;33m)\u001b[0m\u001b[1;33m\u001b[0m\u001b[0m\n\u001b[0;32m     12\u001b[0m         \u001b[1;32mbreak\u001b[0m\u001b[1;33m\u001b[0m\u001b[0m\n",
      "\u001b[1;31mNameError\u001b[0m: name 'review' is not defined"
     ]
    }
   ],
   "source": [
    "movie_review_df = get_movie_reviews(18847, 10)\n",
    "movie_review_df"
   ]
  },
  {
   "cell_type": "markdown",
   "id": "ba5c4aa4",
   "metadata": {},
   "source": [
    "현재상영작 영화 리뷰 스크래핑"
   ]
  },
  {
   "cell_type": "code",
   "execution_count": null,
   "id": "7481fcaa",
   "metadata": {},
   "outputs": [],
   "source": [
    "url = \"https://movie.naver.com/movie/point/af/list.naver\"\n",
    "naver_movie = urllib.request.urlopen(url).read()\n",
    "soup = BeautifulSoup(naver_movie, 'html.parser')\n",
    "select = soup.find('select', {'id':'current_movie'})\n",
    "movies = select.find_all('option')\n",
    "\n",
    "movies_dict = {}\n",
    "for movie in movies[1:]:\n",
    "    movies_dict[movie.get('value')] = movie.get_text()\n",
    "    \n",
    "movie_review_df = pd.DataFrame(columns=('Title','Score'))\n",
    "for mcode in movies_dict:\n",
    "    df = get_movie_reviews(mcode, 1)\n",
    "    movie_review_df = pd.concat([movie_review_df, df])\n",
    "    \n",
    "movie_review_df"
   ]
  },
  {
   "cell_type": "code",
   "execution_count": null,
   "id": "23f58f69",
   "metadata": {},
   "outputs": [],
   "source": []
  }
 ],
 "metadata": {
  "kernelspec": {
   "display_name": "Python 3",
   "language": "python",
   "name": "python3"
  },
  "language_info": {
   "codemirror_mode": {
    "name": "ipython",
    "version": 3
   },
   "file_extension": ".py",
   "mimetype": "text/x-python",
   "name": "python",
   "nbconvert_exporter": "python",
   "pygments_lexer": "ipython3",
   "version": "3.6.4"
  }
 },
 "nbformat": 4,
 "nbformat_minor": 5
}
