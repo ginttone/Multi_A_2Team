{
 "cells": [
  {
   "cell_type": "code",
   "execution_count": 1,
   "id": "46753f1c",
   "metadata": {},
   "outputs": [],
   "source": [
    "from bs4 import BeautifulSoup"
   ]
  },
  {
   "cell_type": "code",
   "execution_count": 2,
   "id": "7c8ac0a2",
   "metadata": {},
   "outputs": [],
   "source": [
    "import requests"
   ]
  },
  {
   "cell_type": "code",
   "execution_count": 3,
   "id": "09297012",
   "metadata": {},
   "outputs": [],
   "source": [
    "# path = 'https://movie.naver.com/movie/point/af/list.naver'\n",
    "# req = requests.get(path)"
   ]
  },
  {
   "cell_type": "code",
   "execution_count": 4,
   "id": "c09bb99a",
   "metadata": {},
   "outputs": [],
   "source": [
    "# soup = BeautifulSoup(req.content, 'html.parser')"
   ]
  },
  {
   "cell_type": "code",
   "execution_count": 5,
   "id": "05dc3011",
   "metadata": {},
   "outputs": [],
   "source": [
    "# movies = soup.select('tbody > tr')\n",
    "# movie = movies[0]\n",
    "# movie"
   ]
  },
  {
   "cell_type": "code",
   "execution_count": 6,
   "id": "f9fdefd6",
   "metadata": {},
   "outputs": [],
   "source": [
    "# title= movie.select('a.movie')\n",
    "# title"
   ]
  },
  {
   "cell_type": "code",
   "execution_count": 7,
   "id": "4bf9dc46",
   "metadata": {},
   "outputs": [],
   "source": [
    "# href = title[0]['href']\n",
    "# href"
   ]
  },
  {
   "cell_type": "code",
   "execution_count": 8,
   "id": "c0cf2cd7",
   "metadata": {},
   "outputs": [],
   "source": [
    "# type(href)"
   ]
  },
  {
   "cell_type": "code",
   "execution_count": 9,
   "id": "345ca7c3",
   "metadata": {},
   "outputs": [],
   "source": [
    "# title = movie.select('a.movie')"
   ]
  },
  {
   "cell_type": "code",
   "execution_count": 10,
   "id": "f4c344c8",
   "metadata": {},
   "outputs": [],
   "source": [
    "# title[0].text.strip()"
   ]
  },
  {
   "cell_type": "code",
   "execution_count": 11,
   "id": "976d22e3",
   "metadata": {},
   "outputs": [],
   "source": [
    "# score = movie.select('td > div > em')\n",
    "# score"
   ]
  },
  {
   "cell_type": "code",
   "execution_count": 12,
   "id": "271528cb",
   "metadata": {},
   "outputs": [],
   "source": [
    "# score[0].text.strip()"
   ]
  },
  {
   "cell_type": "code",
   "execution_count": 13,
   "id": "7eb2dc76",
   "metadata": {},
   "outputs": [],
   "source": [
    "# author = movie.select('a.author')\n",
    "# author"
   ]
  },
  {
   "cell_type": "code",
   "execution_count": 14,
   "id": "573aeae1",
   "metadata": {},
   "outputs": [],
   "source": [
    "# author[0].text.strip()"
   ]
  },
  {
   "cell_type": "markdown",
   "id": "6287eefa",
   "metadata": {},
   "source": [
    "https://movie.naver.com/movie/point/af/list.naver?&page=1"
   ]
  },
  {
   "cell_type": "code",
   "execution_count": null,
   "id": "bc0a0ffa",
   "metadata": {},
   "outputs": [],
   "source": [
    "uri = 'https://movie.naver.com/movie/point/af/list.naver?&page='\n",
    "data = [] # or list()\n",
    "\n",
    "for page in range(1, 13580000):\n",
    "    target = uri+str(page)\n",
    "#     print(target)\n",
    "    req  = requests.get(target)\n",
    "    soup = BeautifulSoup(req.content,'html.parser')\n",
    "    movies = soup.select('tbody > tr')\n",
    "\n",
    "    for movie in movies:\n",
    "        title = movie.select('a.movie')\n",
    "        score = movie.select('td > div > em')\n",
    "        author = movie.select('a.author')\n",
    "        data.append([title[0]['href'], title[0].text.strip(),score[0].text.strip(), author[0].text.strip()])\n",
    "len(data)"
   ]
  },
  {
   "cell_type": "code",
   "execution_count": null,
   "id": "2960ae31",
   "metadata": {},
   "outputs": [],
   "source": [
    "data"
   ]
  },
  {
   "cell_type": "code",
   "execution_count": null,
   "id": "49cfedfe",
   "metadata": {},
   "outputs": [],
   "source": [
    "import pandas as pd"
   ]
  },
  {
   "cell_type": "code",
   "execution_count": null,
   "id": "eb481ba3",
   "metadata": {},
   "outputs": [],
   "source": [
    "pd_data=pd.DataFrame(data, columns=['Code','Title','Score','Author'])\n",
    "pd_data"
   ]
  },
  {
   "cell_type": "code",
   "execution_count": null,
   "id": "40dfd34c",
   "metadata": {},
   "outputs": [],
   "source": [
    "pd_data['Code'] = pd_data['Code'].str[16:22]\n",
    "pd_data"
   ]
  },
  {
   "cell_type": "code",
   "execution_count": null,
   "id": "dba791f4",
   "metadata": {},
   "outputs": [],
   "source": [
    "pd_data['Code'] = pd_data['Code'].str.replace(pat=r'[^\\w]', repl=r'', regex=True)"
   ]
  },
  {
   "cell_type": "code",
   "execution_count": null,
   "id": "7bc2050a",
   "metadata": {},
   "outputs": [],
   "source": [
    "pd_data"
   ]
  },
  {
   "cell_type": "code",
   "execution_count": null,
   "id": "415e41fa",
   "metadata": {},
   "outputs": [],
   "source": [
    "pd_data.to_excel('./saves/naver_movie_reviewdata.xls', index=False)"
   ]
  },
  {
   "cell_type": "code",
   "execution_count": null,
   "id": "b38b8b89",
   "metadata": {},
   "outputs": [],
   "source": []
  }
 ],
 "metadata": {
  "kernelspec": {
   "display_name": "Python 3",
   "language": "python",
   "name": "python3"
  },
  "language_info": {
   "codemirror_mode": {
    "name": "ipython",
    "version": 3
   },
   "file_extension": ".py",
   "mimetype": "text/x-python",
   "name": "python",
   "nbconvert_exporter": "python",
   "pygments_lexer": "ipython3",
   "version": "3.6.4"
  }
 },
 "nbformat": 4,
 "nbformat_minor": 5
}
