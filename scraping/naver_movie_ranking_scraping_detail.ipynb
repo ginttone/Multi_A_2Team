{
 "cells": [
  {
   "cell_type": "markdown",
   "id": "c8e16980",
   "metadata": {},
   "source": [
    "맨 아래 for문을 돌리기 전에 윗부분에서 하나씩 테스트를 해보고 for문을 만들었는데 23라인의 오류메시지에 나온 바와 같이 23라인의 2열에서 오류가 나는 이유를 모르겠습니다. 어디에 문제가 있는 걸까요?"
   ]
  },
  {
   "cell_type": "code",
   "execution_count": 1,
   "id": "ddd06247",
   "metadata": {},
   "outputs": [],
   "source": [
    "from selenium import webdriver"
   ]
  },
  {
   "cell_type": "code",
   "execution_count": 2,
   "id": "526f21ee",
   "metadata": {},
   "outputs": [],
   "source": [
    "import time"
   ]
  },
  {
   "cell_type": "code",
   "execution_count": 3,
   "id": "e48ba11f",
   "metadata": {},
   "outputs": [],
   "source": [
    "from bs4 import BeautifulSoup"
   ]
  },
  {
   "cell_type": "code",
   "execution_count": 4,
   "id": "b9c878cf",
   "metadata": {},
   "outputs": [],
   "source": [
    "driver = webdriver.Chrome('./chromedriver.exe')"
   ]
  },
  {
   "cell_type": "code",
   "execution_count": 5,
   "id": "0a99803a",
   "metadata": {},
   "outputs": [],
   "source": [
    "driver.get('https://movie.naver.com/movie/sdb/rank/rmovie.naver?sel=cnt&tg=0&date=20210716')"
   ]
  },
  {
   "cell_type": "code",
   "execution_count": 6,
   "id": "1617c2df",
   "metadata": {},
   "outputs": [],
   "source": [
    "# elem = driver.find_element_by_xpath('//*[@id=\"old_content\"]/table/tbody/tr[2]/td[2]/div/a')\n",
    "# elem.click()"
   ]
  },
  {
   "cell_type": "code",
   "execution_count": 7,
   "id": "5f61fc25",
   "metadata": {},
   "outputs": [],
   "source": [
    "# time.sleep(5)"
   ]
  },
  {
   "cell_type": "code",
   "execution_count": 8,
   "id": "029f0ae8",
   "metadata": {},
   "outputs": [],
   "source": [
    "# html = driver.page_source\n",
    "# html"
   ]
  },
  {
   "cell_type": "code",
   "execution_count": 9,
   "id": "8c80079d",
   "metadata": {},
   "outputs": [],
   "source": [
    "# soup = BeautifulSoup(html, 'html.parser')\n",
    "# soup"
   ]
  },
  {
   "cell_type": "code",
   "execution_count": 10,
   "id": "a07259e0",
   "metadata": {},
   "outputs": [],
   "source": [
    "# datas = soup.select('dl.info_spec')\n",
    "# data = datas[0]"
   ]
  },
  {
   "cell_type": "code",
   "execution_count": 11,
   "id": "e8b52383",
   "metadata": {},
   "outputs": [],
   "source": [
    "# outline1 = data.select('span:nth-child(1) > a:nth-child(1)')"
   ]
  },
  {
   "cell_type": "code",
   "execution_count": 12,
   "id": "320f63fa",
   "metadata": {},
   "outputs": [],
   "source": [
    "# outline1[0].text.strip()"
   ]
  },
  {
   "cell_type": "code",
   "execution_count": 13,
   "id": "0da101e7",
   "metadata": {},
   "outputs": [],
   "source": [
    "# outline2 = data.select('span:nth-child(1) > a:nth-child(2)')"
   ]
  },
  {
   "cell_type": "code",
   "execution_count": 14,
   "id": "e127dd37",
   "metadata": {},
   "outputs": [],
   "source": [
    "# outline2[0].text.strip()"
   ]
  },
  {
   "cell_type": "code",
   "execution_count": 15,
   "id": "5e5ae520",
   "metadata": {},
   "outputs": [],
   "source": [
    "# outline3 = data.select('span:nth-child(1) > a:nth-child(3)')"
   ]
  },
  {
   "cell_type": "code",
   "execution_count": 16,
   "id": "7094f7b0",
   "metadata": {},
   "outputs": [],
   "source": [
    "# outline3[0].text.strip()"
   ]
  },
  {
   "cell_type": "code",
   "execution_count": 17,
   "id": "e8153edc",
   "metadata": {},
   "outputs": [],
   "source": [
    "# nation1 = data.select('span:nth-child(2) > a:nth-child(1)')"
   ]
  },
  {
   "cell_type": "code",
   "execution_count": 18,
   "id": "4d837b49",
   "metadata": {},
   "outputs": [],
   "source": [
    "# nation1[0].text.strip()"
   ]
  },
  {
   "cell_type": "code",
   "execution_count": 19,
   "id": "bec95891",
   "metadata": {},
   "outputs": [],
   "source": [
    "# nation2 = data.select('span:nth-child(2) > a:nth-child(2)')"
   ]
  },
  {
   "cell_type": "code",
   "execution_count": 20,
   "id": "b5a95cd9",
   "metadata": {},
   "outputs": [],
   "source": [
    "# nation2[0].text.strip()"
   ]
  },
  {
   "cell_type": "code",
   "execution_count": 21,
   "id": "b98a2f05",
   "metadata": {},
   "outputs": [],
   "source": [
    "# director = data.select('dd:nth-child(4) > p > a')"
   ]
  },
  {
   "cell_type": "code",
   "execution_count": 22,
   "id": "d267af92",
   "metadata": {},
   "outputs": [],
   "source": [
    "# director[0].text.strip()"
   ]
  },
  {
   "cell_type": "code",
   "execution_count": 23,
   "id": "e5cdf8da",
   "metadata": {},
   "outputs": [],
   "source": [
    "# actor1 = data.select('dd:nth-child(6) > p > a:nth-child(1)')"
   ]
  },
  {
   "cell_type": "code",
   "execution_count": 24,
   "id": "ffa451d8",
   "metadata": {},
   "outputs": [],
   "source": [
    "# actor1[0].text.strip()"
   ]
  },
  {
   "cell_type": "code",
   "execution_count": 25,
   "id": "c99cf18d",
   "metadata": {},
   "outputs": [],
   "source": [
    "# actor2 = data.select('dd:nth-child(6) > p > a:nth-child(2)')"
   ]
  },
  {
   "cell_type": "code",
   "execution_count": 26,
   "id": "379a4e85",
   "metadata": {},
   "outputs": [],
   "source": [
    "# actor2[0].text.strip()"
   ]
  },
  {
   "cell_type": "code",
   "execution_count": 27,
   "id": "37fa016d",
   "metadata": {},
   "outputs": [],
   "source": [
    "# actor3 = data.select('dd:nth-child(6) > p > a:nth-child(3)')"
   ]
  },
  {
   "cell_type": "code",
   "execution_count": 28,
   "id": "b78ca93d",
   "metadata": {},
   "outputs": [],
   "source": [
    "# actor3[0].text.strip()"
   ]
  },
  {
   "cell_type": "code",
   "execution_count": 29,
   "id": "a7642868",
   "metadata": {},
   "outputs": [
    {
     "name": "stdout",
     "output_type": "stream",
     "text": [
      "공포 스릴러 한국 반종 피산다나쿤 나릴야 군몽콘켓 싸와니 우툼마 씨라니 얀키띠칸\n",
      "----------\n",
      "액션 모험 미국 케이트 쇼트랜드 스칼릿 조핸슨 플로렌스 퓨 레이첼 와이즈\n",
      "----------\n",
      "드라마 스릴러 한국 김창주 조우진 이재인 진경\n",
      "----------\n"
     ]
    },
    {
     "ename": "IndexError",
     "evalue": "list index out of range",
     "output_type": "error",
     "traceback": [
      "\u001b[1;31m---------------------------------------------------------------------------\u001b[0m",
      "\u001b[1;31mIndexError\u001b[0m                                Traceback (most recent call last)",
      "\u001b[1;32m<ipython-input-29-3142f4bb8fdc>\u001b[0m in \u001b[0;36m<module>\u001b[1;34m\u001b[0m\n\u001b[0;32m     26\u001b[0m         \u001b[0mprint\u001b[0m\u001b[1;33m(\u001b[0m\u001b[0mex\u001b[0m\u001b[1;33m)\u001b[0m\u001b[1;33m\u001b[0m\u001b[0m\n\u001b[0;32m     27\u001b[0m \u001b[1;33m\u001b[0m\u001b[0m\n\u001b[1;32m---> 28\u001b[1;33m     \u001b[0mprint\u001b[0m\u001b[1;33m(\u001b[0m\u001b[0moutline1\u001b[0m\u001b[1;33m[\u001b[0m\u001b[1;36m0\u001b[0m\u001b[1;33m]\u001b[0m\u001b[1;33m.\u001b[0m\u001b[0mtext\u001b[0m\u001b[1;33m.\u001b[0m\u001b[0mstrip\u001b[0m\u001b[1;33m(\u001b[0m\u001b[1;33m)\u001b[0m\u001b[1;33m,\u001b[0m\u001b[0moutline2\u001b[0m\u001b[1;33m[\u001b[0m\u001b[1;36m0\u001b[0m\u001b[1;33m]\u001b[0m\u001b[1;33m.\u001b[0m\u001b[0mtext\u001b[0m\u001b[1;33m.\u001b[0m\u001b[0mstrip\u001b[0m\u001b[1;33m(\u001b[0m\u001b[1;33m)\u001b[0m\u001b[1;33m,\u001b[0m\u001b[0mnation1\u001b[0m\u001b[1;33m[\u001b[0m\u001b[1;36m0\u001b[0m\u001b[1;33m]\u001b[0m\u001b[1;33m.\u001b[0m\u001b[0mtext\u001b[0m\u001b[1;33m.\u001b[0m\u001b[0mstrip\u001b[0m\u001b[1;33m(\u001b[0m\u001b[1;33m)\u001b[0m\u001b[1;33m,\u001b[0m\u001b[0mdirector\u001b[0m\u001b[1;33m[\u001b[0m\u001b[1;36m0\u001b[0m\u001b[1;33m]\u001b[0m\u001b[1;33m.\u001b[0m\u001b[0mtext\u001b[0m\u001b[1;33m.\u001b[0m\u001b[0mstrip\u001b[0m\u001b[1;33m(\u001b[0m\u001b[1;33m)\u001b[0m\u001b[1;33m,\u001b[0m\u001b[0mactor1\u001b[0m\u001b[1;33m[\u001b[0m\u001b[1;36m0\u001b[0m\u001b[1;33m]\u001b[0m\u001b[1;33m.\u001b[0m\u001b[0mtext\u001b[0m\u001b[1;33m.\u001b[0m\u001b[0mstrip\u001b[0m\u001b[1;33m(\u001b[0m\u001b[1;33m)\u001b[0m\u001b[1;33m,\u001b[0m\u001b[0mactor2\u001b[0m\u001b[1;33m[\u001b[0m\u001b[1;36m0\u001b[0m\u001b[1;33m]\u001b[0m\u001b[1;33m.\u001b[0m\u001b[0mtext\u001b[0m\u001b[1;33m.\u001b[0m\u001b[0mstrip\u001b[0m\u001b[1;33m(\u001b[0m\u001b[1;33m)\u001b[0m\u001b[1;33m,\u001b[0m\u001b[0mactor3\u001b[0m\u001b[1;33m[\u001b[0m\u001b[1;36m0\u001b[0m\u001b[1;33m]\u001b[0m\u001b[1;33m.\u001b[0m\u001b[0mtext\u001b[0m\u001b[1;33m.\u001b[0m\u001b[0mstrip\u001b[0m\u001b[1;33m(\u001b[0m\u001b[1;33m)\u001b[0m\u001b[1;33m)\u001b[0m\u001b[1;33m\u001b[0m\u001b[0m\n\u001b[0m\u001b[0;32m     29\u001b[0m \u001b[1;33m\u001b[0m\u001b[0m\n\u001b[0;32m     30\u001b[0m     \u001b[0mprint\u001b[0m\u001b[1;33m(\u001b[0m\u001b[1;34m'----------'\u001b[0m\u001b[1;33m)\u001b[0m\u001b[1;33m\u001b[0m\u001b[0m\n",
      "\u001b[1;31mIndexError\u001b[0m: list index out of range"
     ]
    }
   ],
   "source": [
    "data= []\n",
    "\n",
    "for n in range(2, 25):\n",
    "    driver.find_element_by_xpath('//*[@id=\"old_content\"]/table/tbody/tr[%s]/td[2]/div/a' %n).click()\n",
    "    time.sleep(5)\n",
    "    html = driver.page_source\n",
    "    soup = BeautifulSoup(html, 'html.parser')\n",
    "    datas = soup.select('dl.info_spec')\n",
    "    data = datas[0]\n",
    "#     print(data)\n",
    "\n",
    "    try:\n",
    "    \n",
    "        outline1 = data.select('span:nth-child(1) > a:nth-child(1)')\n",
    "        outline2 = data.select('span:nth-child(1) > a:nth-child(2)')\n",
    "    #     outline3 = data.select('span:nth-child(1) > a:nth-child(3)')\n",
    "        nation1 = data.select('span:nth-child(2) > a:nth-child(1)')\n",
    "    #     nation2 = data.select('span:nth-child(2) > a:nth-child(2)')\n",
    "        director = data.select('dd:nth-child(4) > p > a')\n",
    "        actor1 = data.select('dd:nth-child(6) > p > a:nth-child(1)')\n",
    "        actor2 = data.select('dd:nth-child(6) > p > a:nth-child(2)')\n",
    "        actor3 = data.select('dd:nth-child(6) > p > a:nth-child(3)')\n",
    "\n",
    "    \n",
    "    except BaseException as ex:\n",
    "        print(ex)\n",
    "        \n",
    "    print(outline1[0].text.strip(),outline2[0].text.strip(),nation1[0].text.strip(),director[0].text.strip(),actor1[0].text.strip(),actor2[0].text.strip(),actor3[0].text.strip())\n",
    "    \n",
    "    print('----------')    \n",
    "        \n",
    "    driver.back()\n",
    "\n",
    "len(data)    "
   ]
  },
  {
   "cell_type": "code",
   "execution_count": null,
   "id": "619e18f9",
   "metadata": {},
   "outputs": [],
   "source": []
  },
  {
   "cell_type": "code",
   "execution_count": null,
   "id": "c10b2323",
   "metadata": {},
   "outputs": [],
   "source": []
  },
  {
   "cell_type": "code",
   "execution_count": null,
   "id": "48a48e5c",
   "metadata": {},
   "outputs": [],
   "source": []
  },
  {
   "cell_type": "code",
   "execution_count": null,
   "id": "3b909182",
   "metadata": {},
   "outputs": [],
   "source": []
  }
 ],
 "metadata": {
  "kernelspec": {
   "display_name": "Python 3",
   "language": "python",
   "name": "python3"
  },
  "language_info": {
   "codemirror_mode": {
    "name": "ipython",
    "version": 3
   },
   "file_extension": ".py",
   "mimetype": "text/x-python",
   "name": "python",
   "nbconvert_exporter": "python",
   "pygments_lexer": "ipython3",
   "version": "3.6.4"
  }
 },
 "nbformat": 4,
 "nbformat_minor": 5
}
