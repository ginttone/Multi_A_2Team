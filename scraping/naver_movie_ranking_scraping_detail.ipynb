{
 "cells": [
  {
   "cell_type": "code",
   "execution_count": 1,
   "id": "ddd06247",
   "metadata": {},
   "outputs": [],
   "source": [
    "from selenium import webdriver"
   ]
  },
  {
   "cell_type": "code",
   "execution_count": 2,
   "id": "526f21ee",
   "metadata": {},
   "outputs": [],
   "source": [
    "import time"
   ]
  },
  {
   "cell_type": "code",
   "execution_count": 3,
   "id": "e48ba11f",
   "metadata": {},
   "outputs": [],
   "source": [
    "from bs4 import BeautifulSoup"
   ]
  },
  {
   "cell_type": "code",
   "execution_count": 4,
   "id": "b9c878cf",
   "metadata": {},
   "outputs": [],
   "source": [
    "driver = webdriver.Chrome('./chromedriver.exe')"
   ]
  },
  {
   "cell_type": "code",
   "execution_count": 5,
   "id": "0a99803a",
   "metadata": {},
   "outputs": [],
   "source": [
    "driver.get('https://movie.naver.com/movie/sdb/rank/rmovie.naver?sel=pnt&date=20210720')"
   ]
  },
  {
   "cell_type": "code",
   "execution_count": 6,
   "id": "1617c2df",
   "metadata": {},
   "outputs": [],
   "source": [
    "# elem = driver.find_element_by_xpath('//*[@id=\"old_content\"]/table/tbody/tr[2]/td[2]/div/a')\n",
    "# elem.click()"
   ]
  },
  {
   "cell_type": "code",
   "execution_count": 7,
   "id": "5f61fc25",
   "metadata": {},
   "outputs": [],
   "source": [
    "# time.sleep(5)"
   ]
  },
  {
   "cell_type": "code",
   "execution_count": 8,
   "id": "029f0ae8",
   "metadata": {},
   "outputs": [],
   "source": [
    "# html = driver.page_source\n",
    "# html"
   ]
  },
  {
   "cell_type": "code",
   "execution_count": 9,
   "id": "8c80079d",
   "metadata": {},
   "outputs": [],
   "source": [
    "# soup = BeautifulSoup(html, 'html.parser')\n",
    "# soup"
   ]
  },
  {
   "cell_type": "code",
   "execution_count": 10,
   "id": "a07259e0",
   "metadata": {},
   "outputs": [],
   "source": [
    "# datas = soup.select('dl.info_spec')\n",
    "# data = datas[0]"
   ]
  },
  {
   "cell_type": "code",
   "execution_count": 11,
   "id": "e8b52383",
   "metadata": {},
   "outputs": [],
   "source": [
    "# outline1 = data.select('span:nth-child(1) > a:nth-child(1)')"
   ]
  },
  {
   "cell_type": "code",
   "execution_count": 12,
   "id": "320f63fa",
   "metadata": {},
   "outputs": [],
   "source": [
    "# outline1[0].text.strip()"
   ]
  },
  {
   "cell_type": "code",
   "execution_count": 13,
   "id": "0da101e7",
   "metadata": {},
   "outputs": [],
   "source": [
    "# outline2 = data.select('span:nth-child(1) > a:nth-child(2)')"
   ]
  },
  {
   "cell_type": "code",
   "execution_count": 14,
   "id": "e127dd37",
   "metadata": {},
   "outputs": [],
   "source": [
    "# outline2[0].text.strip()"
   ]
  },
  {
   "cell_type": "code",
   "execution_count": 15,
   "id": "5e5ae520",
   "metadata": {},
   "outputs": [],
   "source": [
    "# outline3 = data.select('span:nth-child(1) > a:nth-child(3)')"
   ]
  },
  {
   "cell_type": "code",
   "execution_count": 16,
   "id": "7094f7b0",
   "metadata": {},
   "outputs": [],
   "source": [
    "# outline3[0].text.strip()"
   ]
  },
  {
   "cell_type": "code",
   "execution_count": 17,
   "id": "e8153edc",
   "metadata": {},
   "outputs": [],
   "source": [
    "# nation1 = data.select('span:nth-child(2) > a:nth-child(1)')"
   ]
  },
  {
   "cell_type": "code",
   "execution_count": 18,
   "id": "4d837b49",
   "metadata": {},
   "outputs": [],
   "source": [
    "# nation1[0].text.strip()"
   ]
  },
  {
   "cell_type": "code",
   "execution_count": 19,
   "id": "bec95891",
   "metadata": {},
   "outputs": [],
   "source": [
    "# nation2 = data.select('span:nth-child(2) > a:nth-child(2)')"
   ]
  },
  {
   "cell_type": "code",
   "execution_count": 20,
   "id": "b5a95cd9",
   "metadata": {},
   "outputs": [],
   "source": [
    "# nation2[0].text.strip()"
   ]
  },
  {
   "cell_type": "code",
   "execution_count": 21,
   "id": "b98a2f05",
   "metadata": {},
   "outputs": [],
   "source": [
    "# director = data.select('dd:nth-child(4) > p > a')"
   ]
  },
  {
   "cell_type": "code",
   "execution_count": 22,
   "id": "d267af92",
   "metadata": {},
   "outputs": [],
   "source": [
    "# director[0].text.strip()"
   ]
  },
  {
   "cell_type": "code",
   "execution_count": 23,
   "id": "e5cdf8da",
   "metadata": {},
   "outputs": [],
   "source": [
    "# actor1 = data.select('dd:nth-child(6) > p > a:nth-child(1)')"
   ]
  },
  {
   "cell_type": "code",
   "execution_count": 24,
   "id": "ffa451d8",
   "metadata": {},
   "outputs": [],
   "source": [
    "# actor1[0].text.strip()"
   ]
  },
  {
   "cell_type": "code",
   "execution_count": 25,
   "id": "c99cf18d",
   "metadata": {},
   "outputs": [],
   "source": [
    "# actor2 = data.select('dd:nth-child(6) > p > a:nth-child(2)')"
   ]
  },
  {
   "cell_type": "code",
   "execution_count": 26,
   "id": "379a4e85",
   "metadata": {},
   "outputs": [],
   "source": [
    "# actor2[0].text.strip()"
   ]
  },
  {
   "cell_type": "code",
   "execution_count": 27,
   "id": "37fa016d",
   "metadata": {},
   "outputs": [],
   "source": [
    "# actor3 = data.select('dd:nth-child(6) > p > a:nth-child(3)')"
   ]
  },
  {
   "cell_type": "code",
   "execution_count": 28,
   "id": "b78ca93d",
   "metadata": {},
   "outputs": [],
   "source": [
    "# actor3[0].text.strip()"
   ]
  },
  {
   "cell_type": "code",
   "execution_count": 29,
   "id": "a7642868",
   "metadata": {},
   "outputs": [],
   "source": [
    "# data= []\n",
    "\n",
    "# for n in range(2, 25):\n",
    "#     driver.find_element_by_xpath('//*[@id=\"old_content\"]/table/tbody/tr[%s]/td[2]/div/a' %n).click()\n",
    "#     time.sleep(5)\n",
    "#     html = driver.page_source\n",
    "#     soup = BeautifulSoup(html, 'html.parser')\n",
    "#     datas = soup.select('dl.info_spec')\n",
    "#     data = datas[0]\n",
    "# #     print(data)\n",
    "\n",
    "#     try:\n",
    "        \n",
    "#         outline1 = data.select('span:nth-child(1) > a:nth-child(1)')\n",
    "#         nation1 = data.select('span:nth-child(2) > a:nth-child(1)')        \n",
    "#         director = data.select('dd:nth-child(4) > p > a')\n",
    "#         actor1 = data.select('dd:nth-child(6) > p > a:nth-child(1)')       \n",
    "        \n",
    "#         if data.select('span:nth-child(1) > a:nth-child(2)') is not None\n",
    "#             outline2 = data.select('span:nth-child(1) > a:nth-child(2)')\n",
    "#         else:\n",
    "#             pass\n",
    "#         if data.select('span:nth-child(1) > a:nth-child(3)') is not None\n",
    "#             outline3 = data.select('span:nth-child(1) > a:nth-child(3)')\n",
    "#         else:\n",
    "#             pass\n",
    "#         if  data.select('span:nth-child(2) > a:nth-child(2)') is not None\n",
    "#             nation2 = data.select('span:nth-child(2) > a:nth-child(2)')\n",
    "#         else:\n",
    "#             pass\n",
    "#         if data.select('dd:nth-child(6) > p > a:nth-child(2)') is not None\n",
    "#             actor2 = data.select('dd:nth-child(6) > p > a:nth-child(2)')\n",
    "#         else:\n",
    "#             pass\n",
    "#         if data.select('dd:nth-child(6) > p > a:nth-child(3)') is not None\n",
    "#             actor3 = data.select('dd:nth-child(6) > p > a:nth-child(3)')\n",
    "#         else:\n",
    "#             pass\n",
    "    \n",
    "#     except BaseException as ex:\n",
    "#         print(ex)\n",
    "#         pass\n",
    "    \n",
    "# #     print(outline1[0].text.strip(),outline2[0].text.strip(),nation1[0].text.strip(),director[0].text.strip(),actor1[0].text.strip(),actor2[0].text.strip(),actor3[0].text.strip())\n",
    "#     data.append(outline1[0].text.strip(),outline2[0].text.strip(),nation1[0].text.strip(),director[0].text.strip(),actor1[0].text.strip(),actor2[0].text.strip(),actor3[0].text.strip())\n",
    "#     print('----------')    \n",
    "        \n",
    "#     driver.back()\n",
    "\n",
    "# len(data)    "
   ]
  },
  {
   "cell_type": "code",
   "execution_count": 30,
   "id": "619e18f9",
   "metadata": {},
   "outputs": [],
   "source": [
    "# from selenium import webdriver\n",
    "# import time\n",
    "# from bs4 import BeautifulSoup\n",
    "# driver = webdriver.Chrome('./chromedriver.exe')\n",
    "# driver.get('https://movie.naver.com/movie/sdb/rank/rmovie.naver?sel=pnt&date=20210720')\n",
    "\n",
    "# nmovie = []\n",
    "\n",
    "# for n in range(2, 57):\n",
    "#     driver.implicitly_wait(5)\n",
    "# #     time.sleep(5)\n",
    "#     try: \n",
    "#         driver.find_element_by_xpath('//*[@id=\"old_content\"]/table/tbody/tr[%s]/td[2]/div/a' %n).click()\n",
    "#         html = driver.page_source\n",
    "#         soup = BeautifulSoup(html, 'html.parser')\n",
    "#         datas = soup.select('dl.info_spec')\n",
    "#         data = datas[0]\n",
    "#         outlines = []\n",
    "#         nations = []\n",
    "#         directors = []\n",
    "#         actors = []      \n",
    "       \n",
    "\n",
    "    \n",
    "#         movie_genre = data.select('dd > p > span > a[href*=\"genre\"]')\n",
    "#         movie_nation = data.select('dd > p > span > a[href*=\"nation\"]')\n",
    "#         movie_director = data.select('dd:nth-child(4) > p > a')\n",
    "#         movie_actor = data.select('dd:nth-child(6) > p > a')\n",
    "\n",
    "#         try :    \n",
    "#             for i in range(1,len(movie_genre)+1):\n",
    "#                 outline = data.select('span:nth-child(1) > a:nth-child(%s)' %i)\n",
    "#                 outlines.append(outline[0].text.strip())\n",
    "#         except:\n",
    "#             pass\n",
    "\n",
    "\n",
    "#         try:\n",
    "#             for n in range(1,len(movie_nation)+1):\n",
    "#                 nation = data.select('span:nth-child(2) > a:nth-child(%s)' %n)\n",
    "#                 nations.append(nation[0].text.strip())\n",
    "#         except:\n",
    "#             pass\n",
    "\n",
    "#         try:\n",
    "#             for z in range(1,len(movie_director)+1):\n",
    "#                 director = data.select('dd:nth-child(4) > p > a:nth-child(%s)' %z)\n",
    "#                 directors.append(director[0].text.strip())        \n",
    "#         except:\n",
    "#             pass\n",
    "\n",
    "#         try: \n",
    "#              for s in range(1,len(movie_actor)+1):\n",
    "#                 actor = data.select('dd:nth-child(6) > p > a:nth-child(%s)' %s)\n",
    "#                 actors.append(actor[0].text.strip())        \n",
    "#         except:\n",
    "#             pass\n",
    "\n",
    "\n",
    "#         movie_data = [outlines, nations, directors, actors]\n",
    "#         nmovie.append(movie_data)\n",
    "#         print('----------')    \n",
    "\n",
    "#         driver.back()\n",
    "    \n",
    "#     except:\n",
    "#         pass\n",
    "\n",
    "# len(nmovie) \n",
    "# print(nmovie)"
   ]
  },
  {
   "cell_type": "code",
   "execution_count": 31,
   "id": "ec210203",
   "metadata": {},
   "outputs": [],
   "source": [
    "# from selenium import webdriver\n",
    "# import time\n",
    "# from bs4 import BeautifulSoup\n",
    "# driver = webdriver.Chrome('./chromedriver.exe')\n",
    "\n",
    "# uri = 'https://movie.naver.com/movie/sdb/rank/rmovie.naver?sel=pnt&date=20210720&page='\n",
    "# nmovie = []\n",
    "\n",
    "# for page in range(1,4):\n",
    "#     target = uri+str(page)\n",
    "#     driver.get(target)\n",
    "#     try:\n",
    "#         for n in range(2, 55):\n",
    "#             driver.implicitly_wait(5)\n",
    "#         #     time.sleep(5)\n",
    "#             try: \n",
    "#                 driver.find_element_by_xpath('//*[@id=\"old_content\"]/table/tbody/tr[%s]/td[2]/div/a' %n).click()\n",
    "#                 html = driver.page_source\n",
    "#                 soup = BeautifulSoup(html, 'html.parser')\n",
    "#                 datas = soup.select('dl.info_spec')\n",
    "#                 data = datas[0]\n",
    "#                 outlines = []\n",
    "#                 nations = []\n",
    "#                 directors = []\n",
    "#                 actors = []      \n",
    "\n",
    "\n",
    "\n",
    "#                 movie_genre = data.select('dd > p > span > a[href*=\"genre\"]')\n",
    "#                 movie_nation = data.select('dd > p > span > a[href*=\"nation\"]')\n",
    "#                 movie_director = data.select('dd:nth-child(4) > p > a')\n",
    "#                 movie_actor = data.select('dd:nth-child(6) > p > a')\n",
    "\n",
    "#                 try :    \n",
    "#                     for i in range(1,len(movie_genre)+1):\n",
    "#                         outline = data.select('span:nth-child(1) > a:nth-child(%s)' %i)\n",
    "#                         outlines.append(outline[0].text.strip())\n",
    "#                 except:\n",
    "#                     pass\n",
    "\n",
    "\n",
    "#                 try:\n",
    "#                     for n in range(1,len(movie_nation)+1):\n",
    "#                         nation = data.select('span:nth-child(2) > a:nth-child(%s)' %n)\n",
    "#                         nations.append(nation[0].text.strip())\n",
    "#                 except:\n",
    "#                     pass\n",
    "\n",
    "#                 try:\n",
    "#                     for z in range(1,len(movie_director)+1):\n",
    "#                         director = data.select('dd:nth-child(4) > p > a:nth-child(%s)' %z)\n",
    "#                         directors.append(director[0].text.strip())        \n",
    "#                 except:\n",
    "#                     pass\n",
    "\n",
    "#                 try: \n",
    "#                      for s in range(1,len(movie_actor)+1):\n",
    "#                         actor = data.select('dd:nth-child(6) > p > a:nth-child(%s)' %s)\n",
    "#                         actors.append(actor[0].text.strip())        \n",
    "#                 except:\n",
    "#                     pass\n",
    "\n",
    "\n",
    "#                 movie_data = [outlines, nations, directors, actors]\n",
    "#                 nmovie.append(movie_data)\n",
    "# #                 print('----------')    \n",
    "\n",
    "#                 driver.back()\n",
    "\n",
    "#             except:\n",
    "#                 pass        \n",
    "\n",
    "#     except:\n",
    "#         pass  \n",
    "\n",
    "\n",
    "# len(nmovie)\n",
    "# print(nmovie)"
   ]
  },
  {
   "cell_type": "code",
   "execution_count": 32,
   "id": "b40d93da",
   "metadata": {},
   "outputs": [
    {
     "ename": "WebDriverException",
     "evalue": "Message: chrome not reachable\n  (Session info: chrome=91.0.4472.164)\n",
     "output_type": "error",
     "traceback": [
      "\u001b[1;31m---------------------------------------------------------------------------\u001b[0m",
      "\u001b[1;31mWebDriverException\u001b[0m                        Traceback (most recent call last)",
      "\u001b[1;32m<ipython-input-32-8cca649ce492>\u001b[0m in \u001b[0;36m<module>\u001b[1;34m\u001b[0m\n\u001b[0;32m      9\u001b[0m \u001b[1;32mfor\u001b[0m \u001b[0mpage\u001b[0m \u001b[1;32min\u001b[0m \u001b[0mrange\u001b[0m\u001b[1;33m(\u001b[0m\u001b[1;36m1\u001b[0m\u001b[1;33m,\u001b[0m \u001b[1;36m25\u001b[0m\u001b[1;33m)\u001b[0m\u001b[1;33m:\u001b[0m\u001b[1;33m\u001b[0m\u001b[0m\n\u001b[0;32m     10\u001b[0m     \u001b[0mtarget\u001b[0m \u001b[1;33m=\u001b[0m \u001b[0muri\u001b[0m\u001b[1;33m+\u001b[0m\u001b[0mstr\u001b[0m\u001b[1;33m(\u001b[0m\u001b[0mpage\u001b[0m\u001b[1;33m)\u001b[0m\u001b[1;33m\u001b[0m\u001b[0m\n\u001b[1;32m---> 11\u001b[1;33m     \u001b[0mdriver\u001b[0m\u001b[1;33m.\u001b[0m\u001b[0mget\u001b[0m\u001b[1;33m(\u001b[0m\u001b[0mtarget\u001b[0m\u001b[1;33m)\u001b[0m\u001b[1;33m\u001b[0m\u001b[0m\n\u001b[0m\u001b[0;32m     12\u001b[0m \u001b[1;33m\u001b[0m\u001b[0m\n\u001b[0;32m     13\u001b[0m     \u001b[1;32mtry\u001b[0m\u001b[1;33m:\u001b[0m\u001b[1;33m\u001b[0m\u001b[0m\n",
      "\u001b[1;32mc:\\python\\python36\\lib\\site-packages\\selenium\\webdriver\\remote\\webdriver.py\u001b[0m in \u001b[0;36mget\u001b[1;34m(self, url)\u001b[0m\n\u001b[0;32m    331\u001b[0m         \u001b[0mLoads\u001b[0m \u001b[0ma\u001b[0m \u001b[0mweb\u001b[0m \u001b[0mpage\u001b[0m \u001b[1;32min\u001b[0m \u001b[0mthe\u001b[0m \u001b[0mcurrent\u001b[0m \u001b[0mbrowser\u001b[0m \u001b[0msession\u001b[0m\u001b[1;33m.\u001b[0m\u001b[1;33m\u001b[0m\u001b[0m\n\u001b[0;32m    332\u001b[0m         \"\"\"\n\u001b[1;32m--> 333\u001b[1;33m         \u001b[0mself\u001b[0m\u001b[1;33m.\u001b[0m\u001b[0mexecute\u001b[0m\u001b[1;33m(\u001b[0m\u001b[0mCommand\u001b[0m\u001b[1;33m.\u001b[0m\u001b[0mGET\u001b[0m\u001b[1;33m,\u001b[0m \u001b[1;33m{\u001b[0m\u001b[1;34m'url'\u001b[0m\u001b[1;33m:\u001b[0m \u001b[0murl\u001b[0m\u001b[1;33m}\u001b[0m\u001b[1;33m)\u001b[0m\u001b[1;33m\u001b[0m\u001b[0m\n\u001b[0m\u001b[0;32m    334\u001b[0m \u001b[1;33m\u001b[0m\u001b[0m\n\u001b[0;32m    335\u001b[0m     \u001b[1;33m@\u001b[0m\u001b[0mproperty\u001b[0m\u001b[1;33m\u001b[0m\u001b[0m\n",
      "\u001b[1;32mc:\\python\\python36\\lib\\site-packages\\selenium\\webdriver\\remote\\webdriver.py\u001b[0m in \u001b[0;36mexecute\u001b[1;34m(self, driver_command, params)\u001b[0m\n\u001b[0;32m    319\u001b[0m         \u001b[0mresponse\u001b[0m \u001b[1;33m=\u001b[0m \u001b[0mself\u001b[0m\u001b[1;33m.\u001b[0m\u001b[0mcommand_executor\u001b[0m\u001b[1;33m.\u001b[0m\u001b[0mexecute\u001b[0m\u001b[1;33m(\u001b[0m\u001b[0mdriver_command\u001b[0m\u001b[1;33m,\u001b[0m \u001b[0mparams\u001b[0m\u001b[1;33m)\u001b[0m\u001b[1;33m\u001b[0m\u001b[0m\n\u001b[0;32m    320\u001b[0m         \u001b[1;32mif\u001b[0m \u001b[0mresponse\u001b[0m\u001b[1;33m:\u001b[0m\u001b[1;33m\u001b[0m\u001b[0m\n\u001b[1;32m--> 321\u001b[1;33m             \u001b[0mself\u001b[0m\u001b[1;33m.\u001b[0m\u001b[0merror_handler\u001b[0m\u001b[1;33m.\u001b[0m\u001b[0mcheck_response\u001b[0m\u001b[1;33m(\u001b[0m\u001b[0mresponse\u001b[0m\u001b[1;33m)\u001b[0m\u001b[1;33m\u001b[0m\u001b[0m\n\u001b[0m\u001b[0;32m    322\u001b[0m             response['value'] = self._unwrap_value(\n\u001b[0;32m    323\u001b[0m                 response.get('value', None))\n",
      "\u001b[1;32mc:\\python\\python36\\lib\\site-packages\\selenium\\webdriver\\remote\\errorhandler.py\u001b[0m in \u001b[0;36mcheck_response\u001b[1;34m(self, response)\u001b[0m\n\u001b[0;32m    240\u001b[0m                 \u001b[0malert_text\u001b[0m \u001b[1;33m=\u001b[0m \u001b[0mvalue\u001b[0m\u001b[1;33m[\u001b[0m\u001b[1;34m'alert'\u001b[0m\u001b[1;33m]\u001b[0m\u001b[1;33m.\u001b[0m\u001b[0mget\u001b[0m\u001b[1;33m(\u001b[0m\u001b[1;34m'text'\u001b[0m\u001b[1;33m)\u001b[0m\u001b[1;33m\u001b[0m\u001b[0m\n\u001b[0;32m    241\u001b[0m             \u001b[1;32mraise\u001b[0m \u001b[0mexception_class\u001b[0m\u001b[1;33m(\u001b[0m\u001b[0mmessage\u001b[0m\u001b[1;33m,\u001b[0m \u001b[0mscreen\u001b[0m\u001b[1;33m,\u001b[0m \u001b[0mstacktrace\u001b[0m\u001b[1;33m,\u001b[0m \u001b[0malert_text\u001b[0m\u001b[1;33m)\u001b[0m\u001b[1;33m\u001b[0m\u001b[0m\n\u001b[1;32m--> 242\u001b[1;33m         \u001b[1;32mraise\u001b[0m \u001b[0mexception_class\u001b[0m\u001b[1;33m(\u001b[0m\u001b[0mmessage\u001b[0m\u001b[1;33m,\u001b[0m \u001b[0mscreen\u001b[0m\u001b[1;33m,\u001b[0m \u001b[0mstacktrace\u001b[0m\u001b[1;33m)\u001b[0m\u001b[1;33m\u001b[0m\u001b[0m\n\u001b[0m\u001b[0;32m    243\u001b[0m \u001b[1;33m\u001b[0m\u001b[0m\n\u001b[0;32m    244\u001b[0m     \u001b[1;32mdef\u001b[0m \u001b[0m_value_or_default\u001b[0m\u001b[1;33m(\u001b[0m\u001b[0mself\u001b[0m\u001b[1;33m,\u001b[0m \u001b[0mobj\u001b[0m\u001b[1;33m,\u001b[0m \u001b[0mkey\u001b[0m\u001b[1;33m,\u001b[0m \u001b[0mdefault\u001b[0m\u001b[1;33m)\u001b[0m\u001b[1;33m:\u001b[0m\u001b[1;33m\u001b[0m\u001b[0m\n",
      "\u001b[1;31mWebDriverException\u001b[0m: Message: chrome not reachable\n  (Session info: chrome=91.0.4472.164)\n"
     ]
    }
   ],
   "source": [
    "from selenium import webdriver\n",
    "import time\n",
    "from bs4 import BeautifulSoup\n",
    "driver = webdriver.Chrome('./chromedriver.exe')\n",
    "\n",
    "uri = 'https://movie.naver.com/movie/sdb/rank/rmovie.naver?sel=pnt&date=20210720&page='\n",
    "nmovie = []\n",
    "\n",
    "for page in range(1, 25):\n",
    "    target = uri+str(page)\n",
    "    driver.get(target)\n",
    "    \n",
    "    try:\n",
    "        for n in range(2, 55):\n",
    "            driver.implicitly_wait(5)\n",
    "        #     time.sleep(5)\n",
    "            try:\n",
    "                driver.find_element_by_xpath('//*[@id=\"old_content\"]/table/tbody/tr[%s]/td[2]/div/a' %n).click()\n",
    "                html = driver.page_source\n",
    "                soup = BeautifulSoup(html, 'html.parser')\n",
    "                datas = soup.select('dl.info_spec')\n",
    "                data = datas[0]\n",
    "                outlines = []\n",
    "                nations = []\n",
    "                directors = []\n",
    "                actors = []      \n",
    "\n",
    "                movie_genre = data.select('dd > p > span > a[href*=\"genre\"]')\n",
    "                movie_nation = data.select('dd > p > span > a[href*=\"nation\"]')\n",
    "                movie_director = data.select('dd:nth-child(4) > p > a')\n",
    "                movie_actor = data.select('dd:nth-child(6) > p > a')\n",
    "\n",
    "                try :  \n",
    "                    names = soup.select('div.wide_info_area > div.mv_info > h3 > a')\n",
    "                    title = names[0].text.strip()\n",
    "                    href = names[0]['href']\n",
    "                    \n",
    "                    for i in range(1,len(movie_genre)+1):\n",
    "                        outline = data.select('span:nth-child(1) > a:nth-child(%s)' %i)\n",
    "                        outlines.append(outline[0].text.strip())\n",
    "                except:\n",
    "                    pass\n",
    "\n",
    "\n",
    "                try:\n",
    "                    for n in range(1,len(movie_nation)+1):\n",
    "                        nation = data.select('span:nth-child(2) > a:nth-child(%s)' %n)\n",
    "                        nations.append(nation[0].text.strip())\n",
    "                except:\n",
    "                    pass\n",
    "\n",
    "                try:\n",
    "                    for z in range(1,len(movie_director)+1):\n",
    "                        director = data.select('dd:nth-child(4) > p > a:nth-child(%s)' %z)\n",
    "                        directors.append(director[0].text.strip())        \n",
    "                except:\n",
    "                    pass\n",
    "\n",
    "                try: \n",
    "                     for s in range(1,len(movie_actor)+1):\n",
    "                        actor = data.select('dd:nth-child(6) > p > a:nth-child(%s)' %s)\n",
    "                        actors.append(actor[0].text.strip())        \n",
    "                except:\n",
    "                    pass\n",
    "\n",
    "\n",
    "                movie_data = [title, href, outlines, nations, directors, actors]\n",
    "                nmovie.append(movie_data)\n",
    "#                 print('----------')    \n",
    "\n",
    "                driver.back()\n",
    "\n",
    "            except:\n",
    "                pass        \n",
    "\n",
    "    except:\n",
    "        pass  \n",
    "\n",
    "print(nmovie)"
   ]
  },
  {
   "cell_type": "code",
   "execution_count": null,
   "id": "c10b2323",
   "metadata": {},
   "outputs": [],
   "source": [
    "import pandas as pd"
   ]
  },
  {
   "cell_type": "markdown",
   "id": "a2f4cc9b",
   "metadata": {},
   "source": [
    ", columns=['Name','Genre','Nation','Director','Actor']"
   ]
  },
  {
   "cell_type": "code",
   "execution_count": null,
   "id": "48a48e5c",
   "metadata": {},
   "outputs": [],
   "source": [
    "pd_data=pd.DataFrame(nmovie, columns=['Title','Movie Code','Genre','Nation','Director','Actor'])\n",
    "pd_data"
   ]
  },
  {
   "cell_type": "code",
   "execution_count": null,
   "id": "3b909182",
   "metadata": {},
   "outputs": [],
   "source": [
    "pd_data['Movie Code'] = pd_data['Movie Code'].str[-6:]\n",
    "pd_data"
   ]
  },
  {
   "cell_type": "code",
   "execution_count": null,
   "id": "4b84c908",
   "metadata": {},
   "outputs": [],
   "source": [
    "pd_data['Movie Code'] = pd_data['Movie Code'].str.replace(pat=r'[^\\w]', repl=r'', regex=True)\n",
    "pd_data"
   ]
  },
  {
   "cell_type": "code",
   "execution_count": null,
   "id": "4c6900dd",
   "metadata": {},
   "outputs": [],
   "source": [
    "pd_data.to_excel('./saves/naver_movie_data.xls', index=False)"
   ]
  },
  {
   "cell_type": "code",
   "execution_count": null,
   "id": "81bb6614",
   "metadata": {},
   "outputs": [],
   "source": []
  }
 ],
 "metadata": {
  "kernelspec": {
   "display_name": "Python 3",
   "language": "python",
   "name": "python3"
  },
  "language_info": {
   "codemirror_mode": {
    "name": "ipython",
    "version": 3
   },
   "file_extension": ".py",
   "mimetype": "text/x-python",
   "name": "python",
   "nbconvert_exporter": "python",
   "pygments_lexer": "ipython3",
   "version": "3.6.4"
  }
 },
 "nbformat": 4,
 "nbformat_minor": 5
}
