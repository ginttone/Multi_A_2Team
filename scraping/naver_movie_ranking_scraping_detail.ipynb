{
 "cells": [
  {
   "cell_type": "code",
   "execution_count": 1,
   "id": "ddd06247",
   "metadata": {},
   "outputs": [],
   "source": [
    "from selenium import webdriver"
   ]
  },
  {
   "cell_type": "code",
   "execution_count": 2,
   "id": "526f21ee",
   "metadata": {},
   "outputs": [],
   "source": [
    "import time"
   ]
  },
  {
   "cell_type": "code",
   "execution_count": 3,
   "id": "e48ba11f",
   "metadata": {},
   "outputs": [],
   "source": [
    "from bs4 import BeautifulSoup"
   ]
  },
  {
   "cell_type": "code",
   "execution_count": 4,
   "id": "b9c878cf",
   "metadata": {},
   "outputs": [],
   "source": [
    "driver = webdriver.Chrome('./chromedriver.exe')"
   ]
  },
  {
   "cell_type": "code",
   "execution_count": 5,
   "id": "0a99803a",
   "metadata": {},
   "outputs": [],
   "source": [
    "driver.get('https://movie.naver.com/movie/sdb/rank/rmovie.naver?sel=pnt&date=20210720')"
   ]
  },
  {
   "cell_type": "code",
   "execution_count": 6,
   "id": "1617c2df",
   "metadata": {},
   "outputs": [],
   "source": [
    "# elem = driver.find_element_by_xpath('//*[@id=\"old_content\"]/table/tbody/tr[2]/td[2]/div/a')\n",
    "# elem.click()"
   ]
  },
  {
   "cell_type": "code",
   "execution_count": 7,
   "id": "5f61fc25",
   "metadata": {},
   "outputs": [],
   "source": [
    "# time.sleep(5)"
   ]
  },
  {
   "cell_type": "code",
   "execution_count": 8,
   "id": "029f0ae8",
   "metadata": {},
   "outputs": [],
   "source": [
    "# html = driver.page_source\n",
    "# html"
   ]
  },
  {
   "cell_type": "code",
   "execution_count": 9,
   "id": "8c80079d",
   "metadata": {},
   "outputs": [],
   "source": [
    "# soup = BeautifulSoup(html, 'html.parser')\n",
    "# soup"
   ]
  },
  {
   "cell_type": "code",
   "execution_count": 10,
   "id": "a07259e0",
   "metadata": {},
   "outputs": [],
   "source": [
    "# datas = soup.select('dl.info_spec')\n",
    "# data = datas[0]"
   ]
  },
  {
   "cell_type": "code",
   "execution_count": 11,
   "id": "e8b52383",
   "metadata": {},
   "outputs": [],
   "source": [
    "# outline1 = data.select('span:nth-child(1) > a:nth-child(1)')"
   ]
  },
  {
   "cell_type": "code",
   "execution_count": 12,
   "id": "320f63fa",
   "metadata": {},
   "outputs": [],
   "source": [
    "# outline1[0].text.strip()"
   ]
  },
  {
   "cell_type": "code",
   "execution_count": 13,
   "id": "0da101e7",
   "metadata": {},
   "outputs": [],
   "source": [
    "# outline2 = data.select('span:nth-child(1) > a:nth-child(2)')"
   ]
  },
  {
   "cell_type": "code",
   "execution_count": 14,
   "id": "e127dd37",
   "metadata": {},
   "outputs": [],
   "source": [
    "# outline2[0].text.strip()"
   ]
  },
  {
   "cell_type": "code",
   "execution_count": 15,
   "id": "5e5ae520",
   "metadata": {},
   "outputs": [],
   "source": [
    "# outline3 = data.select('span:nth-child(1) > a:nth-child(3)')"
   ]
  },
  {
   "cell_type": "code",
   "execution_count": 16,
   "id": "7094f7b0",
   "metadata": {},
   "outputs": [],
   "source": [
    "# outline3[0].text.strip()"
   ]
  },
  {
   "cell_type": "code",
   "execution_count": 17,
   "id": "e8153edc",
   "metadata": {},
   "outputs": [],
   "source": [
    "# nation1 = data.select('span:nth-child(2) > a:nth-child(1)')"
   ]
  },
  {
   "cell_type": "code",
   "execution_count": 18,
   "id": "4d837b49",
   "metadata": {},
   "outputs": [],
   "source": [
    "# nation1[0].text.strip()"
   ]
  },
  {
   "cell_type": "code",
   "execution_count": 19,
   "id": "bec95891",
   "metadata": {},
   "outputs": [],
   "source": [
    "# nation2 = data.select('span:nth-child(2) > a:nth-child(2)')"
   ]
  },
  {
   "cell_type": "code",
   "execution_count": 20,
   "id": "b5a95cd9",
   "metadata": {},
   "outputs": [],
   "source": [
    "# nation2[0].text.strip()"
   ]
  },
  {
   "cell_type": "code",
   "execution_count": 21,
   "id": "b98a2f05",
   "metadata": {},
   "outputs": [],
   "source": [
    "# director = data.select('dd:nth-child(4) > p > a')"
   ]
  },
  {
   "cell_type": "code",
   "execution_count": 22,
   "id": "d267af92",
   "metadata": {},
   "outputs": [],
   "source": [
    "# director[0].text.strip()"
   ]
  },
  {
   "cell_type": "code",
   "execution_count": 23,
   "id": "e5cdf8da",
   "metadata": {},
   "outputs": [],
   "source": [
    "# actor1 = data.select('dd:nth-child(6) > p > a:nth-child(1)')"
   ]
  },
  {
   "cell_type": "code",
   "execution_count": 24,
   "id": "ffa451d8",
   "metadata": {},
   "outputs": [],
   "source": [
    "# actor1[0].text.strip()"
   ]
  },
  {
   "cell_type": "code",
   "execution_count": 25,
   "id": "c99cf18d",
   "metadata": {},
   "outputs": [],
   "source": [
    "# actor2 = data.select('dd:nth-child(6) > p > a:nth-child(2)')"
   ]
  },
  {
   "cell_type": "code",
   "execution_count": 26,
   "id": "379a4e85",
   "metadata": {},
   "outputs": [],
   "source": [
    "# actor2[0].text.strip()"
   ]
  },
  {
   "cell_type": "code",
   "execution_count": 27,
   "id": "37fa016d",
   "metadata": {},
   "outputs": [],
   "source": [
    "# actor3 = data.select('dd:nth-child(6) > p > a:nth-child(3)')"
   ]
  },
  {
   "cell_type": "code",
   "execution_count": 28,
   "id": "b78ca93d",
   "metadata": {},
   "outputs": [],
   "source": [
    "# actor3[0].text.strip()"
   ]
  },
  {
   "cell_type": "code",
   "execution_count": 29,
   "id": "a7642868",
   "metadata": {},
   "outputs": [],
   "source": [
    "# data= []\n",
    "\n",
    "# for n in range(2, 25):\n",
    "#     driver.find_element_by_xpath('//*[@id=\"old_content\"]/table/tbody/tr[%s]/td[2]/div/a' %n).click()\n",
    "#     time.sleep(5)\n",
    "#     html = driver.page_source\n",
    "#     soup = BeautifulSoup(html, 'html.parser')\n",
    "#     datas = soup.select('dl.info_spec')\n",
    "#     data = datas[0]\n",
    "# #     print(data)\n",
    "\n",
    "#     try:\n",
    "        \n",
    "#         outline1 = data.select('span:nth-child(1) > a:nth-child(1)')\n",
    "#         nation1 = data.select('span:nth-child(2) > a:nth-child(1)')        \n",
    "#         director = data.select('dd:nth-child(4) > p > a')\n",
    "#         actor1 = data.select('dd:nth-child(6) > p > a:nth-child(1)')       \n",
    "        \n",
    "#         if data.select('span:nth-child(1) > a:nth-child(2)') is not None\n",
    "#             outline2 = data.select('span:nth-child(1) > a:nth-child(2)')\n",
    "#         else:\n",
    "#             pass\n",
    "#         if data.select('span:nth-child(1) > a:nth-child(3)') is not None\n",
    "#             outline3 = data.select('span:nth-child(1) > a:nth-child(3)')\n",
    "#         else:\n",
    "#             pass\n",
    "#         if  data.select('span:nth-child(2) > a:nth-child(2)') is not None\n",
    "#             nation2 = data.select('span:nth-child(2) > a:nth-child(2)')\n",
    "#         else:\n",
    "#             pass\n",
    "#         if data.select('dd:nth-child(6) > p > a:nth-child(2)') is not None\n",
    "#             actor2 = data.select('dd:nth-child(6) > p > a:nth-child(2)')\n",
    "#         else:\n",
    "#             pass\n",
    "#         if data.select('dd:nth-child(6) > p > a:nth-child(3)') is not None\n",
    "#             actor3 = data.select('dd:nth-child(6) > p > a:nth-child(3)')\n",
    "#         else:\n",
    "#             pass\n",
    "    \n",
    "#     except BaseException as ex:\n",
    "#         print(ex)\n",
    "#         pass\n",
    "    \n",
    "# #     print(outline1[0].text.strip(),outline2[0].text.strip(),nation1[0].text.strip(),director[0].text.strip(),actor1[0].text.strip(),actor2[0].text.strip(),actor3[0].text.strip())\n",
    "#     data.append(outline1[0].text.strip(),outline2[0].text.strip(),nation1[0].text.strip(),director[0].text.strip(),actor1[0].text.strip(),actor2[0].text.strip(),actor3[0].text.strip())\n",
    "#     print('----------')    \n",
    "        \n",
    "#     driver.back()\n",
    "\n",
    "# len(data)    "
   ]
  },
  {
   "cell_type": "code",
   "execution_count": 30,
   "id": "619e18f9",
   "metadata": {},
   "outputs": [],
   "source": [
    "# from selenium import webdriver\n",
    "# import time\n",
    "# from bs4 import BeautifulSoup\n",
    "# driver = webdriver.Chrome('./chromedriver.exe')\n",
    "# driver.get('https://movie.naver.com/movie/sdb/rank/rmovie.naver?sel=pnt&date=20210720')\n",
    "\n",
    "# nmovie = []\n",
    "\n",
    "# for n in range(2, 57):\n",
    "#     driver.implicitly_wait(5)\n",
    "# #     time.sleep(5)\n",
    "#     try: \n",
    "#         driver.find_element_by_xpath('//*[@id=\"old_content\"]/table/tbody/tr[%s]/td[2]/div/a' %n).click()\n",
    "#         html = driver.page_source\n",
    "#         soup = BeautifulSoup(html, 'html.parser')\n",
    "#         datas = soup.select('dl.info_spec')\n",
    "#         data = datas[0]\n",
    "#         outlines = []\n",
    "#         nations = []\n",
    "#         directors = []\n",
    "#         actors = []      \n",
    "       \n",
    "\n",
    "    \n",
    "#         movie_genre = data.select('dd > p > span > a[href*=\"genre\"]')\n",
    "#         movie_nation = data.select('dd > p > span > a[href*=\"nation\"]')\n",
    "#         movie_director = data.select('dd:nth-child(4) > p > a')\n",
    "#         movie_actor = data.select('dd:nth-child(6) > p > a')\n",
    "\n",
    "#         try :    \n",
    "#             for i in range(1,len(movie_genre)+1):\n",
    "#                 outline = data.select('span:nth-child(1) > a:nth-child(%s)' %i)\n",
    "#                 outlines.append(outline[0].text.strip())\n",
    "#         except:\n",
    "#             pass\n",
    "\n",
    "\n",
    "#         try:\n",
    "#             for n in range(1,len(movie_nation)+1):\n",
    "#                 nation = data.select('span:nth-child(2) > a:nth-child(%s)' %n)\n",
    "#                 nations.append(nation[0].text.strip())\n",
    "#         except:\n",
    "#             pass\n",
    "\n",
    "#         try:\n",
    "#             for z in range(1,len(movie_director)+1):\n",
    "#                 director = data.select('dd:nth-child(4) > p > a:nth-child(%s)' %z)\n",
    "#                 directors.append(director[0].text.strip())        \n",
    "#         except:\n",
    "#             pass\n",
    "\n",
    "#         try: \n",
    "#              for s in range(1,len(movie_actor)+1):\n",
    "#                 actor = data.select('dd:nth-child(6) > p > a:nth-child(%s)' %s)\n",
    "#                 actors.append(actor[0].text.strip())        \n",
    "#         except:\n",
    "#             pass\n",
    "\n",
    "\n",
    "#         movie_data = [outlines, nations, directors, actors]\n",
    "#         nmovie.append(movie_data)\n",
    "#         print('----------')    \n",
    "\n",
    "#         driver.back()\n",
    "    \n",
    "#     except:\n",
    "#         pass\n",
    "\n",
    "# len(nmovie) \n",
    "# print(nmovie)"
   ]
  },
  {
   "cell_type": "code",
   "execution_count": 31,
   "id": "feeedc13",
   "metadata": {},
   "outputs": [
    {
     "name": "stdout",
     "output_type": "stream",
     "text": [
      "[[['드라마'], ['미국'], ['피터 패럴리'], ['비고 모텐슨', '마허샬라 알리']], [['드라마'], ['레바논', '프랑스'], ['나딘 라바키'], ['자인 알 라피아', '요르다노스 시프로우']], [['애니메이션', '모험'], ['일본'], ['타구치 토모히사'], ['하나에 나츠키', '호소야 요시마사', '사카모토 치카']], [['드라마'], ['미국'], ['스티븐 크보스키'], ['제이콥 트렘블레이', '줄리아 로버츠', '오웬 윌슨']], [['모험', '코미디', '드라마'], ['미국'], ['라세 할스트롬'], ['조시 게드', '데니스 퀘이드', 'K.J. 아파']], [['드라마', '멜로/로맨스'], ['중국'], ['유약영'], ['정백연', '주동우', '톈좡좡']], [['드라마', '전쟁'], ['한국', '터키'], ['잔 울카이'], ['김설', '이스마일 하지오글루']], [['드라마', '액션'], ['인도'], ['니테쉬 티와리'], ['아미르 칸', '파티마 사나 셰이크', '산야 말호트라']], [['액션', '드라마'], ['미국'], ['제임스 맨골드'], ['맷 데이먼', '크리스찬 베일']], [['애니메이션', '드라마', '판타지'], ['일본'], ['이시다테 타이치'], ['이시카와 유이', '나미카와 다이스케']], [['다큐멘터리'], ['미국'], ['미키 데자키'], ['전체 관람가']], [['드라마'], ['미국'], ['프랭크 다라본트'], ['팀 로빈스', '모건 프리먼']], [['공연실황'], ['한국'], ['오윤동'], ['김호중']], [['SF', '액션', '스릴러'], ['미국', '프랑스'], ['제임스 카메론'], ['아놀드 슈왈제네거']], [['모험', '범죄', '가족', '코미디'], ['미국'], ['크리스 콜럼버스'], ['맥컬리 컬킨', '조 페시', '다니엘 스턴']], [['드라마'], ['한국'], ['방수인'], ['이순재', '정지훈']], [['전쟁', '액션', '드라마'], ['미국'], ['스티븐 스필버그'], ['톰 행크스', '에드워드 번즈', '톰 시즈모어']], [['멜로/로맨스', '드라마'], ['한국'], ['곽재용'], ['손예진', '조승우', '조인성']], [['애니메이션', 'SF', '가족', '코미디', '멜로/로맨스', '모험'], ['미국'], ['앤드류 스탠튼'], ['벤 버트', '엘리사 나이트', '제프 갈린']], [['드라마'], ['미국', '영국'], ['브라이언 싱어'], ['라미 말렉', '루시 보인턴', '귈림 리']], [['액션', '모험', '판타지', 'SF'], ['미국'], ['잭 스나이더'], ['벤 애플렉', '헨리 카빌', '갤 가돗']], [['멜로/로맨스', '뮤지컬', '드라마'], ['미국'], ['로버트 와이즈'], ['줄리 앤드류스', '크리스토퍼 플러머', '엘레노 파커']], [['드라마', '코미디'], ['미국'], ['로버트 저메키스'], ['톰 행크스']], [['SF', '코미디'], ['미국'], ['로버트 저메키스'], ['마이클 J. 폭스', '크리스토퍼 로이드', '리 톰슨']], [['액션', '드라마'], ['미국', '영국'], ['리들리 스콧'], ['러셀 크로우', '호아킨 피닉스', '코니 닐슨']], [['드라마', '뮤지컬'], ['미국'], ['마이클 그레이시'], ['휴 잭맨', '잭 에프론', '미셸 윌리엄스']], [['드라마'], ['미국'], ['테이트 테일러'], ['엠마 스톤', '비올라 데이비스', '옥타비아 스펜서']], [['멜로/로맨스', '드라마'], ['미국'], ['제임스 카메론'], ['레오나르도 디카프리오', '케이트 윈슬렛']], [['다큐멘터리', '드라마'], ['미국'], ['브렌트 밀러 주니어'], ['션 알다란', '잭 힙스', '젬마 리주토']], [['드라마', '코미디'], ['이탈리아'], ['로베르토 베니니'], ['로베르토 베니니', '니콜레타 브라스키']], [['SF', '액션'], ['미국'], ['릴리 워쇼스키', '라나 워쇼스키'], ['키아누 리브스', '로렌스 피시번']], [['범죄', '미스터리', '스릴러', '코미디', '드라마'], ['한국'], ['봉준호'], ['송강호', '김상경']], [['애니메이션', '판타지', '모험', '가족'], ['일본'], ['미야자키 하야오'], ['히이라기 루미', '이리노 미유']], [['애니메이션', '모험', '코미디', '가족', '판타지'], ['미국'], ['리 언크리치'], ['톰 행크스', '팀 알렌', '조앤 쿠삭']], [['드라마', '모험'], ['미국'], ['로버트 저메키스'], ['톰 행크스', '헬렌 헌트']], [['액션', '스릴러'], ['미국'], ['도노반 마시'], ['제라드 버틀러', '게리 올드만']], [['공연실황'], ['한국'], ['권은비', '미야와키 사쿠라', '강혜원'], ['전체 관람가']], [['드라마', '가족'], ['한국'], ['이정향'], ['김을분', '유승호']], [['판타지', '모험', '액션', '전쟁'], ['뉴질랜드', '미국'], ['피터 잭슨'], ['일라이저 우드', '숀 애스틴', '앤디 서키스']], [['드라마'], ['미국'], ['피터 위어'], ['로빈 윌리엄스']], [['모험', '가족', '판타지', '뮤지컬', '멜로/로맨스'], ['미국'], ['가이 리치'], ['메나 마수드', '윌 스미스', '나오미 스콧']], [['액션', 'SF'], ['미국'], ['안소니 루소', '조 루소'], ['로버트 다우니 주니어', '크리스 에반스', '크리스 헴스워스']], [['드라마'], ['미국'], ['데오도르 멜피'], ['타라지 P. 헨슨', '옥타비아 스펜서', '자넬 모네']], [['범죄', '액션', '드라마'], ['프랑스', '미국'], ['뤽 베송'], ['장 르노', '나탈리 포트만']], [['드라마'], ['한국'], ['이준익'], ['강하늘', '박정민', '김인우']], [['드라마'], ['한국'], ['김현석'], ['나문희', '이제훈']], [['드라마', '전쟁'], ['미국'], ['스티븐 스필버그'], ['리암 니슨']], [['드라마', '코미디'], ['미국'], ['마틴 브레스트'], ['알 파치노']], [['액션', '드라마'], ['한국', '미국'], ['김두영'], ['이동준', '김혜리', '스티븐 시걸']], [['코미디', '액션', '모험', '판타지', '멜로/로맨스'], ['홍콩'], ['유진위'], ['주성치', '주인']], [['드라마'], ['미국'], ['구스 반 산트'], ['맷 데이먼']], [['드라마'], ['미국'], ['피터 호튼'], ['조셉 마젤로', '브래드 렌프로', '다이아나 스카위드']], [['애니메이션', '액션', '모험', '코미디', '가족'], ['미국'], ['바이론 하워드', '리치 무어'], ['지니퍼 굿윈', '제이슨 베이트먼', '샤키라']], [['판타지', '모험', '액션'], ['뉴질랜드', '미국'], ['피터 잭슨'], ['일라이저 우드', '이안 맥켈런', '비고 모텐슨']], [['다큐멘터리'], ['한국'], ['문창용', '전진'], ['파드마 앙뚜', '우르갼 릭젠']], [['드라마'], ['인도'], ['아미르 칸', '아몰 굽테'], ['다쉴 사페리', '아미르 칸']], [['코미디', '드라마', 'SF'], ['미국'], ['피터 위어'], ['짐 캐리']], [['드라마', '스릴러'], ['미국'], ['존 매든'], ['제시카 차스테인']], [['애니메이션', '모험', '액션'], ['일본'], ['미야자키 하야오'], ['마츠다 요지', '미와 아키히로', '이시다 유리코']], [['코미디'], ['인도'], ['라지쿠마르 히라니'], ['아미르 칸', '마드하반', '셔먼 조쉬']], [['SF', '공포', '스릴러', '액션'], ['미국'], ['제임스 카메론'], ['시고니 위버', '마이클 빈', '폴 레이저']], [['멜로/로맨스', '드라마', '판타지'], ['일본'], ['도이 노부히로'], ['다케우치 유코', '나카무라 시도', '다케이 아카시']], [['다큐멘터리'], ['한국'], ['구수환'], ['이금희', '이태석']], [['모험', '액션', '범죄', '스릴러', '코미디', '가족'], ['미국'], ['크리스 콜럼버스'], ['맥컬리 컬킨', '조 페시', '다니엘 스턴']], [['액션'], ['미국'], ['마이클 베이'], ['숀 코네리', '니콜라스 케이지', '에드 해리스']], [['다큐멘터리'], ['한국'], ['박준수'], ['RM', '진', '슈가']], [['코미디', '가족', '드라마'], ['미국'], ['크리스 콜럼버스'], ['로빈 윌리엄스', '샐리 필드']], [['액션', '범죄', '드라마', '미스터리'], ['미국'], ['크리스토퍼 놀란'], ['크리스찬 베일', '히스 레저', '아론 에크하트']], [['드라마', '멜로/로맨스'], ['영국'], ['앤디 서키스'], ['앤드류 가필드', '클레어 포이']], [['드라마'], ['미국'], ['밀로스 포만'], ['톰 헐스', 'F. 머레이 아브라함', '엘리자베스 베리지']], [['판타지', '가족', '모험', '액션'], ['영국', '미국'], ['크리스 콜럼버스'], ['다니엘 래드클리프', '루퍼트 그린트', '엠마 왓슨']], [['애니메이션', '뮤지컬', '코미디', '가족', '모험', '드라마', '멜로/로맨스'], ['미국'], ['존 머스커', '론 클레멘츠'], ['스콧 와인거', '로빈 윌리엄스', '린다 라킨']], [['코미디', '드라마'], ['프랑스'], ['올리비에르 나카체', '에릭 토레다노'], ['프랑수아 클루제', '오마 사이']], [['드라마'], ['한국'], ['추창민'], ['이순재', '윤소정', '송재호']], [['드라마'], ['미국'], ['척 콘젤만', '캐리 솔로몬'], ['애슐리 브래처', '브룩스 라이언', '로비아 스캇']], [['드라마', '멜로/로맨스'], ['프랑스', '이탈리아'], ['쥬세페 토르나토레'], ['마르코 레오나르디', '필립 느와레', '자끄 페렝']], [['애니메이션', 'SF', '액션', '가족'], ['미국'], ['브래드 버드'], ['제니퍼 애니스톤', '빈 디젤', '엘리 마리엔탈']], [['드라마'], ['미국'], ['제시 넬슨'], ['숀 펜', '미셸 파이퍼']], [['드라마', '가족', '코미디'], ['영국', '프랑스'], ['스티븐 달드리'], ['제이미 벨', '줄리 월터스', '게리 루이스']], [['애니메이션', '코미디', '가족', '판타지', '뮤지컬', '멜로/로맨스'], ['미국'], ['네이슨 그레노', '바이론 하워드'], ['맨디 무어', '제커리 레비']], [['애니메이션', '가족', '코미디', '모험', '뮤지컬'], ['한국'], ['김수정', '임경원'], ['박영남', '이인성']], [['드라마'], ['한국'], ['이준익'], ['설경구', '변요한']], [['멜로/로맨스'], ['한국'], ['이창근'], ['이순재', '정영숙', '조한철']], [['드라마', '전쟁'], ['프랑스', '독일', '폴란드', '영국', '네덜란드'], ['로만 폴란스키'], ['애드리언 브로디', '토마스 크레취만']], [['애니메이션', '가족', '모험', '코미디', '액션'], ['미국'], ['피트 닥터', '밥 피터슨'], ['에드워드 애스너', '조던 나가이', '크리스토퍼 플러머']], [['범죄', '드라마', 'SF', '스릴러'], ['미국'], ['그레고리 호블릿'], ['데니스 퀘이드', '제임스 카비젤']], [['드라마'], ['한국'], ['이준익'], ['설경구', '엄지원', '이레']], [['드라마'], ['미국', '영국', '이탈리아', '아르헨티나'], ['페르난도 메이렐레스'], ['안소니 홉킨스', '조나단 프라이스']], [['애니메이션', '판타지', '모험'], ['일본'], ['미야자키 하야오'], ['타나카 마유미', '요코자와 케이코', '하츠이 코토에']], [['애니메이션', '모험', '코미디', '가족', '판타지'], ['미국'], ['딘 데블로이스', '크리스 샌더스'], ['제이 바루첼', '제라드 버틀러', '아메리카 페레라']], [['모험', '판타지', '미스터리'], ['영국', '미국'], ['데이빗 예이츠'], ['다니엘 래드클리프', '엠마 왓슨', '루퍼트 그린트']], [['애니메이션', '코미디', '가족', '판타지'], ['미국'], ['존 라세터'], ['톰 행크스', '팀 알렌']], [['애니메이션', '드라마'], ['한국'], ['성백엽'], ['김서영', '박선영']], [['공연실황'], ['한국'], ['RM', '진', '슈가'], ['전체 관람가']], [['가족', '코미디', '뮤지컬', '판타지'], ['미국'], ['로버트 스티븐슨'], ['줄리 앤드류스', '딕 반 다이크', '데이비드 톰린슨']], [['애니메이션', '코미디', '가족'], ['미국'], ['리치 무어'], ['존 C. 라일리', '사라 실버맨', '잭 맥브레이어']], [['드라마'], ['미국'], ['존 리 행콕'], ['산드라 블록']], [['드라마'], ['중국', '홍콩'], ['천카이거'], ['장국영', '공리', '장풍의']], [['드라마'], ['영국', '프랑스', '벨기에'], ['켄 로치'], ['크리스 히친', '데비 허니우드']], [['애니메이션'], ['한국'], ['오성윤', '이춘백'], ['디오', '박소담', '박철민']], [['애니메이션', '모험', '코미디'], ['미국'], ['리 언크리치'], ['안소니 곤잘레스', '가엘 가르시아 베르날', '벤자민 브랫']], [['서부', '드라마', '모험'], ['미국', '영국'], ['케빈 코스트너'], ['케빈 코스트너']], [['다큐멘터리', '드라마'], ['한국'], ['추상미'], ['이송', '추상미']], [['드라마'], ['프랑스', '스위스', '독일'], ['크리스토퍼 파라티에'], ['제라르 쥐노', '프랑수와 벨레앙', '장 밥티스트 모니에']], [['코미디'], ['미국'], ['찰리 채플린'], ['찰리 채플린', '파울레트 고다드']], [['SF', '드라마', '판타지'], ['미국'], ['스티븐 스필버그'], ['할리 조엘 오스먼트', '주드 로', '프란시스 오코너']], [['가족', '모험', '드라마'], ['미국'], ['사이먼 윈서'], ['케이코', '제이슨 제임스 리처', '로리 페티']], [[], [], ['박준수'], ['RM', '진', '슈가']], [['애니메이션'], ['미국'], ['피트 닥터'], ['제이미 폭스', '티나 페이', '다비드 딕스']], [['액션', '코미디'], ['홍콩'], ['성룡'], ['성룡']], [['드라마'], ['한국'], ['박종원'], ['홍경인', '고정일', '최민식']], [['드라마'], ['한국'], ['장재혁'], ['박효신', '정재일']], [['코미디', '가족', '모험', '애니메이션'], ['미국'], ['브래드 버드'], ['패튼 오스왈트', '루 로마노']], [['액션', '스릴러', '범죄'], ['미국'], ['존 맥티어난'], ['브루스 윌리스']], [['SF', '드라마'], ['미국'], ['크리스 콜럼버스'], ['로빈 윌리엄스']], [['드라마', '액션'], ['미국'], ['존 G. 아빌드센'], ['실베스터 스탤론']], [['애니메이션', '가족', '모험'], ['미국'], ['케빈 리마', '크리스 벅'], ['토니 골드윈', '미니 드라이버']], [['애니메이션', '가족', '모험', '판타지', '코미디'], ['미국'], ['피트 닥터', '데이빗 실버맨', '리 언크리치'], ['존 굿맨', '빌리 크리스탈', '메리 깁스']], [['애니메이션', 'SF'], ['일본'], ['미야자키 하야오', '코마츠바라 카즈오'], ['시마모토 스미', '츠지무라 마히토', '쿄다 히사코']], [['코미디', '드라마', '멜로/로맨스'], ['한국'], ['곽재용'], ['전지현', '차태현']], [['판타지', '모험', '액션'], ['뉴질랜드', '미국'], ['피터 잭슨'], ['일라이저 우드', '이안 맥켈런', '리브 타일러']], [['애니메이션', '모험', '드라마', '가족'], ['미국'], ['로저 알러스', '롭 민코프'], ['조나단 테일러 토마스', '매튜 브로데릭', '제임스 얼 존스']], [['다큐멘터리'], ['한국'], ['이호경'], ['이관희', '오은주', '이소연']], [['드라마'], ['한국'], ['민규동'], ['김희애', '김해숙']], [['공연실황'], ['영국'], ['캐머런 맥킨토시', '로렌스 코너', '질리안 린'], ['시에라 보게스', '라민 카림루', '하들리 프레이저']], [['드라마', '범죄'], ['미국'], ['마크 로코'], ['크리스찬 슬레이터', '케빈 베이컨', '게리 올드만']], [['드라마', '멜로/로맨스'], ['한국'], ['허진호'], ['한석규', '심은하']], [['드라마'], ['인도'], ['카란 조하르'], ['샤룩 칸', '까졸']], [['드라마', '멜로/로맨스', '판타지'], ['한국'], ['이현승'], ['이정재', '전지현']], [['드라마'], ['영국', '프랑스', '벨기에'], ['켄 로치'], ['데이브 존스', '헤일리 스콰이어']], [['판타지', '공포', '멜로/로맨스', '액션'], ['홍콩'], ['정소동'], ['장국영', '왕조현']], [['액션', '드라마'], ['홍콩'], ['정소동', '당계례'], ['이연걸', '임청하']], [['애니메이션'], ['한국'], ['김현호', '윤창섭'], ['이선', '이미자', '김현지']], [['액션'], ['러시아 연방', '미국', '한국'], ['알렉산드르 야킴추크', '엘레나 코발레바'], ['김보성', '표도르 예멜리야넨코']], [['다큐멘터리'], ['한국'], ['최승호'], ['최승호', '김기춘', '원세훈']], [['액션'], ['홍콩'], ['원규'], ['이연걸', '종려시']], [['전쟁'], ['노르웨이'], ['해럴드 즈워트'], ['토마스 갈라스타드', '조나단 리스 마이어스']], [['다큐멘터리'], ['영국'], ['솔 스위머'], ['존 디콘', '브라이언 메이', '프레디 머큐리']], [['액션', '코미디'], ['홍콩'], ['유가량'], ['성룡']], [['애니메이션'], ['일본'], ['소토자키 하루오'], ['하나에 나츠키', '키토 아카리']], [['멜로/로맨스', '드라마'], ['미국'], ['로브 라이너'], ['매들린 캐롤', '캘런 맥오리피']], [['드라마', '코미디'], ['이란'], ['마지드 마지디'], ['레자 나지', '아미르 파로크 하스미얀', '바하레 세디키']], [['드라마'], ['중국', '대만'], ['장이머우'], ['공리', '갈우']], [['드라마', '가족'], ['한국'], ['민규동'], ['배종옥', '김갑수', '김지영']], [['애니메이션'], ['일본'], ['코다마 켄지'], ['타카야마 미나미', '야마자키 와카나']], [['공연실황'], ['영국'], ['스티븐 달드리'], ['엘리엇 한나', '루시에 헨쉘', '데카 웜슬리']], [['드라마', '전쟁', '코미디', '미스터리'], ['한국'], ['박찬욱'], ['이영애', '이병헌', '송강호']]]\n"
     ]
    }
   ],
   "source": [
    "from selenium import webdriver\n",
    "import time\n",
    "from bs4 import BeautifulSoup\n",
    "driver = webdriver.Chrome('./chromedriver.exe')\n",
    "\n",
    "uri = 'https://movie.naver.com/movie/sdb/rank/rmovie.naver?sel=pnt&date=20210720&page='\n",
    "nmovie = []\n",
    "\n",
    "for page in range(1,4):\n",
    "    target = uri+str(page)\n",
    "    driver.get(target)\n",
    "    try:\n",
    "        for n in range(2, 55):\n",
    "            driver.implicitly_wait(5)\n",
    "        #     time.sleep(5)\n",
    "            try: \n",
    "                driver.find_element_by_xpath('//*[@id=\"old_content\"]/table/tbody/tr[%s]/td[2]/div/a' %n).click()\n",
    "                html = driver.page_source\n",
    "                soup = BeautifulSoup(html, 'html.parser')\n",
    "                datas = soup.select('dl.info_spec')\n",
    "                data = datas[0]\n",
    "                outlines = []\n",
    "                nations = []\n",
    "                directors = []\n",
    "                actors = []      \n",
    "\n",
    "\n",
    "\n",
    "                movie_genre = data.select('dd > p > span > a[href*=\"genre\"]')\n",
    "                movie_nation = data.select('dd > p > span > a[href*=\"nation\"]')\n",
    "                movie_director = data.select('dd:nth-child(4) > p > a')\n",
    "                movie_actor = data.select('dd:nth-child(6) > p > a')\n",
    "\n",
    "                try :    \n",
    "                    for i in range(1,len(movie_genre)+1):\n",
    "                        outline = data.select('span:nth-child(1) > a:nth-child(%s)' %i)\n",
    "                        outlines.append(outline[0].text.strip())\n",
    "                except:\n",
    "                    pass\n",
    "\n",
    "\n",
    "                try:\n",
    "                    for n in range(1,len(movie_nation)+1):\n",
    "                        nation = data.select('span:nth-child(2) > a:nth-child(%s)' %n)\n",
    "                        nations.append(nation[0].text.strip())\n",
    "                except:\n",
    "                    pass\n",
    "\n",
    "                try:\n",
    "                    for z in range(1,len(movie_director)+1):\n",
    "                        director = data.select('dd:nth-child(4) > p > a:nth-child(%s)' %z)\n",
    "                        directors.append(director[0].text.strip())        \n",
    "                except:\n",
    "                    pass\n",
    "\n",
    "                try: \n",
    "                     for s in range(1,len(movie_actor)+1):\n",
    "                        actor = data.select('dd:nth-child(6) > p > a:nth-child(%s)' %s)\n",
    "                        actors.append(actor[0].text.strip())        \n",
    "                except:\n",
    "                    pass\n",
    "\n",
    "\n",
    "                movie_data = [outlines, nations, directors, actors]\n",
    "                nmovie.append(movie_data)\n",
    "#                 print('----------')    \n",
    "\n",
    "                driver.back()\n",
    "\n",
    "            except:\n",
    "                pass        \n",
    "\n",
    "    except:\n",
    "        pass  \n",
    "\n",
    "\n",
    "len(nmovie)\n",
    "print(nmovie)"
   ]
  },
  {
   "cell_type": "code",
   "execution_count": 32,
   "id": "c10b2323",
   "metadata": {},
   "outputs": [],
   "source": [
    "import pandas as pd"
   ]
  },
  {
   "cell_type": "code",
   "execution_count": 33,
   "id": "48a48e5c",
   "metadata": {},
   "outputs": [
    {
     "data": {
      "text/html": [
       "<div>\n",
       "<style scoped>\n",
       "    .dataframe tbody tr th:only-of-type {\n",
       "        vertical-align: middle;\n",
       "    }\n",
       "\n",
       "    .dataframe tbody tr th {\n",
       "        vertical-align: top;\n",
       "    }\n",
       "\n",
       "    .dataframe thead th {\n",
       "        text-align: right;\n",
       "    }\n",
       "</style>\n",
       "<table border=\"1\" class=\"dataframe\">\n",
       "  <thead>\n",
       "    <tr style=\"text-align: right;\">\n",
       "      <th></th>\n",
       "      <th>Genre</th>\n",
       "      <th>Nation</th>\n",
       "      <th>Director</th>\n",
       "      <th>Actor</th>\n",
       "    </tr>\n",
       "  </thead>\n",
       "  <tbody>\n",
       "    <tr>\n",
       "      <th>0</th>\n",
       "      <td>[드라마]</td>\n",
       "      <td>[미국]</td>\n",
       "      <td>[피터 패럴리]</td>\n",
       "      <td>[비고 모텐슨, 마허샬라 알리]</td>\n",
       "    </tr>\n",
       "    <tr>\n",
       "      <th>1</th>\n",
       "      <td>[드라마]</td>\n",
       "      <td>[레바논, 프랑스]</td>\n",
       "      <td>[나딘 라바키]</td>\n",
       "      <td>[자인 알 라피아, 요르다노스 시프로우]</td>\n",
       "    </tr>\n",
       "    <tr>\n",
       "      <th>2</th>\n",
       "      <td>[애니메이션, 모험]</td>\n",
       "      <td>[일본]</td>\n",
       "      <td>[타구치 토모히사]</td>\n",
       "      <td>[하나에 나츠키, 호소야 요시마사, 사카모토 치카]</td>\n",
       "    </tr>\n",
       "    <tr>\n",
       "      <th>3</th>\n",
       "      <td>[드라마]</td>\n",
       "      <td>[미국]</td>\n",
       "      <td>[스티븐 크보스키]</td>\n",
       "      <td>[제이콥 트렘블레이, 줄리아 로버츠, 오웬 윌슨]</td>\n",
       "    </tr>\n",
       "    <tr>\n",
       "      <th>4</th>\n",
       "      <td>[모험, 코미디, 드라마]</td>\n",
       "      <td>[미국]</td>\n",
       "      <td>[라세 할스트롬]</td>\n",
       "      <td>[조시 게드, 데니스 퀘이드, K.J. 아파]</td>\n",
       "    </tr>\n",
       "    <tr>\n",
       "      <th>...</th>\n",
       "      <td>...</td>\n",
       "      <td>...</td>\n",
       "      <td>...</td>\n",
       "      <td>...</td>\n",
       "    </tr>\n",
       "    <tr>\n",
       "      <th>142</th>\n",
       "      <td>[드라마]</td>\n",
       "      <td>[중국, 대만]</td>\n",
       "      <td>[장이머우]</td>\n",
       "      <td>[공리, 갈우]</td>\n",
       "    </tr>\n",
       "    <tr>\n",
       "      <th>143</th>\n",
       "      <td>[드라마, 가족]</td>\n",
       "      <td>[한국]</td>\n",
       "      <td>[민규동]</td>\n",
       "      <td>[배종옥, 김갑수, 김지영]</td>\n",
       "    </tr>\n",
       "    <tr>\n",
       "      <th>144</th>\n",
       "      <td>[애니메이션]</td>\n",
       "      <td>[일본]</td>\n",
       "      <td>[코다마 켄지]</td>\n",
       "      <td>[타카야마 미나미, 야마자키 와카나]</td>\n",
       "    </tr>\n",
       "    <tr>\n",
       "      <th>145</th>\n",
       "      <td>[공연실황]</td>\n",
       "      <td>[영국]</td>\n",
       "      <td>[스티븐 달드리]</td>\n",
       "      <td>[엘리엇 한나, 루시에 헨쉘, 데카 웜슬리]</td>\n",
       "    </tr>\n",
       "    <tr>\n",
       "      <th>146</th>\n",
       "      <td>[드라마, 전쟁, 코미디, 미스터리]</td>\n",
       "      <td>[한국]</td>\n",
       "      <td>[박찬욱]</td>\n",
       "      <td>[이영애, 이병헌, 송강호]</td>\n",
       "    </tr>\n",
       "  </tbody>\n",
       "</table>\n",
       "<p>147 rows × 4 columns</p>\n",
       "</div>"
      ],
      "text/plain": [
       "                    Genre      Nation    Director  \\\n",
       "0                   [드라마]        [미국]    [피터 패럴리]   \n",
       "1                   [드라마]  [레바논, 프랑스]    [나딘 라바키]   \n",
       "2             [애니메이션, 모험]        [일본]  [타구치 토모히사]   \n",
       "3                   [드라마]        [미국]  [스티븐 크보스키]   \n",
       "4          [모험, 코미디, 드라마]        [미국]   [라세 할스트롬]   \n",
       "..                    ...         ...         ...   \n",
       "142                 [드라마]    [중국, 대만]      [장이머우]   \n",
       "143             [드라마, 가족]        [한국]       [민규동]   \n",
       "144               [애니메이션]        [일본]    [코다마 켄지]   \n",
       "145                [공연실황]        [영국]   [스티븐 달드리]   \n",
       "146  [드라마, 전쟁, 코미디, 미스터리]        [한국]       [박찬욱]   \n",
       "\n",
       "                            Actor  \n",
       "0               [비고 모텐슨, 마허샬라 알리]  \n",
       "1          [자인 알 라피아, 요르다노스 시프로우]  \n",
       "2    [하나에 나츠키, 호소야 요시마사, 사카모토 치카]  \n",
       "3     [제이콥 트렘블레이, 줄리아 로버츠, 오웬 윌슨]  \n",
       "4       [조시 게드, 데니스 퀘이드, K.J. 아파]  \n",
       "..                            ...  \n",
       "142                      [공리, 갈우]  \n",
       "143               [배종옥, 김갑수, 김지영]  \n",
       "144          [타카야마 미나미, 야마자키 와카나]  \n",
       "145      [엘리엇 한나, 루시에 헨쉘, 데카 웜슬리]  \n",
       "146               [이영애, 이병헌, 송강호]  \n",
       "\n",
       "[147 rows x 4 columns]"
      ]
     },
     "execution_count": 33,
     "metadata": {},
     "output_type": "execute_result"
    }
   ],
   "source": [
    "pd_data=pd.DataFrame(nmovie, columns=['Genre','Nation','Director','Actor'])\n",
    "pd_data"
   ]
  },
  {
   "cell_type": "code",
   "execution_count": null,
   "id": "3b909182",
   "metadata": {},
   "outputs": [],
   "source": []
  }
 ],
 "metadata": {
  "kernelspec": {
   "display_name": "Python 3",
   "language": "python",
   "name": "python3"
  },
  "language_info": {
   "codemirror_mode": {
    "name": "ipython",
    "version": 3
   },
   "file_extension": ".py",
   "mimetype": "text/x-python",
   "name": "python",
   "nbconvert_exporter": "python",
   "pygments_lexer": "ipython3",
   "version": "3.6.4"
  }
 },
 "nbformat": 4,
 "nbformat_minor": 5
}
