{
  "nbformat": 4,
  "nbformat_minor": 0,
  "metadata": {
    "colab": {
      "name": "Seq2Seq2_load.ipynb",
      "provenance": [],
      "collapsed_sections": [],
      "mount_file_id": "1K2W9YX_l9toquMs9qvfwDc66UGEmOZkj",
      "authorship_tag": "ABX9TyOgo1sQJvYy1aexdTpLcLYg",
      "include_colab_link": true
    },
    "kernelspec": {
      "name": "python3",
      "display_name": "Python 3"
    },
    "language_info": {
      "name": "python"
    }
  },
  "cells": [
    {
      "cell_type": "markdown",
      "metadata": {
        "id": "view-in-github",
        "colab_type": "text"
      },
      "source": [
        "<a href=\"https://colab.research.google.com/github/ginttone/Multi_A_2Team/blob/master/NLP/Seq2Seq2_load.ipynb\" target=\"_parent\"><img src=\"https://colab.research.google.com/assets/colab-badge.svg\" alt=\"Open In Colab\"/></a>"
      ]
    },
    {
      "cell_type": "markdown",
      "metadata": {
        "id": "RavQ7zfMql6m"
      },
      "source": [
        "## load Datas"
      ]
    },
    {
      "cell_type": "code",
      "metadata": {
        "id": "eMQB5z4IXbqx"
      },
      "source": [
        "import numpy as np"
      ],
      "execution_count": 49,
      "outputs": []
    },
    {
      "cell_type": "code",
      "metadata": {
        "colab": {
          "base_uri": "https://localhost:8080/"
        },
        "id": "a8gwyha6Xjck",
        "outputId": "700ef7e8-009b-4dc3-ab40-4569f3f947c2"
      },
      "source": [
        "index_inputs = np.load(open('./drive/MyDrive/Multi_test_deeplearning/train_inputs.npy','rb'))\n",
        "index_outputs = np.load(open('./drive/MyDrive/Multi_test_deeplearning/train_outputs.npy','rb'))\n",
        "index_targets = np.load(open('./drive/MyDrive/Multi_test_deeplearning/train_targets.npy','rb'))\n",
        "\n",
        "type(index_inputs),type(index_outputs),type(index_targets)"
      ],
      "execution_count": 50,
      "outputs": [
        {
          "output_type": "execute_result",
          "data": {
            "text/plain": [
              "(numpy.ndarray, numpy.ndarray, numpy.ndarray)"
            ]
          },
          "metadata": {},
          "execution_count": 50
        }
      ]
    },
    {
      "cell_type": "code",
      "metadata": {
        "colab": {
          "base_uri": "https://localhost:8080/"
        },
        "id": "3oq-k7akXwoR",
        "outputId": "e15bd5cf-41fa-4e5c-c31d-92f4d436f974"
      },
      "source": [
        "index_inputs[3:5]"
      ],
      "execution_count": 51,
      "outputs": [
        {
          "output_type": "execute_result",
          "data": {
            "text/plain": [
              "array([[ 20,  30, 107,   0,   0,   0,   0,   0,   0,   0,   0,   0,   0,\n",
              "          0,   0,   0,   0,   0,   0,   0,   0,   0,   0,   0,   0],\n",
              "       [ 93,   7,  79,   0,   0,   0,   0,   0,   0,   0,   0,   0,   0,\n",
              "          0,   0,   0,   0,   0,   0,   0,   0,   0,   0,   0,   0]])"
            ]
          },
          "metadata": {},
          "execution_count": 51
        }
      ]
    },
    {
      "cell_type": "code",
      "metadata": {
        "colab": {
          "base_uri": "https://localhost:8080/"
        },
        "id": "vCUCp-iepqQ6",
        "outputId": "e2dd8011-d463-42ac-b219-f0d6361731c2"
      },
      "source": [
        "!python -m pip install konlpy"
      ],
      "execution_count": 52,
      "outputs": [
        {
          "output_type": "stream",
          "text": [
            "Requirement already satisfied: konlpy in /usr/local/lib/python3.7/dist-packages (0.5.2)\n",
            "Requirement already satisfied: colorama in /usr/local/lib/python3.7/dist-packages (from konlpy) (0.4.4)\n",
            "Requirement already satisfied: numpy>=1.6 in /usr/local/lib/python3.7/dist-packages (from konlpy) (1.19.5)\n",
            "Requirement already satisfied: lxml>=4.1.0 in /usr/local/lib/python3.7/dist-packages (from konlpy) (4.2.6)\n",
            "Requirement already satisfied: JPype1>=0.7.0 in /usr/local/lib/python3.7/dist-packages (from konlpy) (1.3.0)\n",
            "Requirement already satisfied: tweepy>=3.7.0 in /usr/local/lib/python3.7/dist-packages (from konlpy) (3.10.0)\n",
            "Requirement already satisfied: beautifulsoup4==4.6.0 in /usr/local/lib/python3.7/dist-packages (from konlpy) (4.6.0)\n",
            "Requirement already satisfied: typing-extensions in /usr/local/lib/python3.7/dist-packages (from JPype1>=0.7.0->konlpy) (3.7.4.3)\n",
            "Requirement already satisfied: six>=1.10.0 in /usr/local/lib/python3.7/dist-packages (from tweepy>=3.7.0->konlpy) (1.15.0)\n",
            "Requirement already satisfied: requests[socks]>=2.11.1 in /usr/local/lib/python3.7/dist-packages (from tweepy>=3.7.0->konlpy) (2.23.0)\n",
            "Requirement already satisfied: requests-oauthlib>=0.7.0 in /usr/local/lib/python3.7/dist-packages (from tweepy>=3.7.0->konlpy) (1.3.0)\n",
            "Requirement already satisfied: oauthlib>=3.0.0 in /usr/local/lib/python3.7/dist-packages (from requests-oauthlib>=0.7.0->tweepy>=3.7.0->konlpy) (3.1.1)\n",
            "Requirement already satisfied: idna<3,>=2.5 in /usr/local/lib/python3.7/dist-packages (from requests[socks]>=2.11.1->tweepy>=3.7.0->konlpy) (2.10)\n",
            "Requirement already satisfied: urllib3!=1.25.0,!=1.25.1,<1.26,>=1.21.1 in /usr/local/lib/python3.7/dist-packages (from requests[socks]>=2.11.1->tweepy>=3.7.0->konlpy) (1.24.3)\n",
            "Requirement already satisfied: certifi>=2017.4.17 in /usr/local/lib/python3.7/dist-packages (from requests[socks]>=2.11.1->tweepy>=3.7.0->konlpy) (2021.5.30)\n",
            "Requirement already satisfied: chardet<4,>=3.0.2 in /usr/local/lib/python3.7/dist-packages (from requests[socks]>=2.11.1->tweepy>=3.7.0->konlpy) (3.0.4)\n",
            "Requirement already satisfied: PySocks!=1.5.7,>=1.5.6 in /usr/local/lib/python3.7/dist-packages (from requests[socks]>=2.11.1->tweepy>=3.7.0->konlpy) (1.7.1)\n"
          ],
          "name": "stdout"
        }
      ]
    },
    {
      "cell_type": "markdown",
      "metadata": {
        "id": "YbrK32qcqVVp"
      },
      "source": [
        "preprocess.py 파일 로드"
      ]
    },
    {
      "cell_type": "code",
      "metadata": {
        "id": "dbjX7G9CYh-Y"
      },
      "source": [
        "import preprocess as pp"
      ],
      "execution_count": 53,
      "outputs": []
    },
    {
      "cell_type": "code",
      "metadata": {
        "id": "841MY0BhpoHC"
      },
      "source": [
        "prepro_configs = pp.json.load(open('./drive/MyDrive/Multi_test_deeplearning/data_configs.json','r'))"
      ],
      "execution_count": 54,
      "outputs": []
    },
    {
      "cell_type": "code",
      "metadata": {
        "colab": {
          "base_uri": "https://localhost:8080/"
        },
        "id": "7NiUmNNNqKxb",
        "outputId": "8a8a21de-13c3-4702-e59a-a806721a0565"
      },
      "source": [
        "type(prepro_configs)"
      ],
      "execution_count": 55,
      "outputs": [
        {
          "output_type": "execute_result",
          "data": {
            "text/plain": [
              "dict"
            ]
          },
          "metadata": {},
          "execution_count": 55
        }
      ]
    },
    {
      "cell_type": "code",
      "metadata": {
        "colab": {
          "base_uri": "https://localhost:8080/"
        },
        "id": "_dHMbgO7qM5r",
        "outputId": "95e071ae-57cb-407d-eaf1-dd887466f5c4"
      },
      "source": [
        "prepro_configs.keys()"
      ],
      "execution_count": 56,
      "outputs": [
        {
          "output_type": "execute_result",
          "data": {
            "text/plain": [
              "dict_keys(['char2idx', 'idx2char', 'vocab_size', 'pad_symbol', 'std_symbol', 'end_symbol', 'unk_symbol'])"
            ]
          },
          "metadata": {},
          "execution_count": 56
        }
      ]
    },
    {
      "cell_type": "markdown",
      "metadata": {
        "id": "U2JNVx_nqhhJ"
      },
      "source": [
        "## seq 2 seq - Model 만들기\n",
        "```\n",
        "Encoder -> context -> Decoder\n",
        "input                 input\n",
        "Embedding             Embedding\n",
        "LSTM                  LSTM\n",
        "```"
      ]
    },
    {
      "cell_type": "code",
      "metadata": {
        "id": "Z8cTfTnAqOTs"
      },
      "source": [
        "import tensorflow as tf"
      ],
      "execution_count": 57,
      "outputs": []
    },
    {
      "cell_type": "markdown",
      "metadata": {
        "id": "x2j4LpkvtxY0"
      },
      "source": [
        "### Encode model"
      ]
    },
    {
      "cell_type": "code",
      "metadata": {
        "id": "yny5Fm4xuL5G"
      },
      "source": [
        "vocab_size = prepro_configs['vocab_size']"
      ],
      "execution_count": 58,
      "outputs": []
    },
    {
      "cell_type": "code",
      "metadata": {
        "id": "mJqNc4i9uVbd"
      },
      "source": [
        "latent_dim = 60"
      ],
      "execution_count": 59,
      "outputs": []
    },
    {
      "cell_type": "code",
      "metadata": {
        "id": "LXiV1mUVqwlU"
      },
      "source": [
        "encode_input = tf.keras.Input(shape = (None,))"
      ],
      "execution_count": 60,
      "outputs": []
    },
    {
      "cell_type": "code",
      "metadata": {
        "id": "1al4VGDet9G7"
      },
      "source": [
        "encode_hidden = tf.keras.layers.Embedding(input_dim=vocab_size, output_dim=latent_dim)(encode_input)"
      ],
      "execution_count": 61,
      "outputs": []
    },
    {
      "cell_type": "markdown",
      "metadata": {
        "id": "TKlz1QqPvSGw"
      },
      "source": [
        "return_state=True 해주면 parameter(자기상태값)가 3개가 날라온다. \n"
      ]
    },
    {
      "cell_type": "code",
      "metadata": {
        "id": "MpqZaUmwuZZZ"
      },
      "source": [
        "encode_output, state_h, state_c = tf.keras.layers.LSTM(50, return_state=True)(encode_hidden)"
      ],
      "execution_count": 62,
      "outputs": []
    },
    {
      "cell_type": "code",
      "metadata": {
        "id": "i6ZZZ7eVvjGo"
      },
      "source": [
        "encode_states = [state_h , state_c]"
      ],
      "execution_count": 63,
      "outputs": []
    },
    {
      "cell_type": "markdown",
      "metadata": {
        "id": "ZMGafFcZv2XG"
      },
      "source": [
        "### Decode model\n"
      ]
    },
    {
      "cell_type": "code",
      "metadata": {
        "id": "wxFS4opkvvyX"
      },
      "source": [
        "decode_input = tf.keras.Input(shape=(None,))"
      ],
      "execution_count": 64,
      "outputs": []
    },
    {
      "cell_type": "code",
      "metadata": {
        "id": "37jDIfnMyTux"
      },
      "source": [
        "decode_hidden = tf.keras.layers.Embedding(input_dim = vocab_size ,output_dim = latent_dim)(decode_input)"
      ],
      "execution_count": 65,
      "outputs": []
    },
    {
      "cell_type": "code",
      "metadata": {
        "id": "19uijPy9yVQo"
      },
      "source": [
        "decode_LSTM, _,_ = tf.keras.layers.LSTM(50,return_state = True, return_sequences=True)(decode_hidden,initial_state = encode_states)"
      ],
      "execution_count": 66,
      "outputs": []
    },
    {
      "cell_type": "markdown",
      "metadata": {
        "id": "uNVBJ9DCykXz"
      },
      "source": [
        "입력과 출력이 모두 target vocab size만큼 나옴"
      ]
    },
    {
      "cell_type": "code",
      "metadata": {
        "id": "XylMKDGayWtv"
      },
      "source": [
        "decode_output = tf.keras.layers.Dense(vocab_size, activation='softmax')(decode_LSTM)"
      ],
      "execution_count": 67,
      "outputs": []
    },
    {
      "cell_type": "code",
      "metadata": {
        "id": "FWsKx4QTzOW3"
      },
      "source": [
        "model = tf.keras.models.Model(inputs=[encode_input,decode_input], outputs = decode_output)"
      ],
      "execution_count": 68,
      "outputs": []
    },
    {
      "cell_type": "code",
      "metadata": {
        "colab": {
          "base_uri": "https://localhost:8080/",
          "height": 466
        },
        "id": "jqlHjMEb0Yto",
        "outputId": "20a758e8-2595-42f6-fb91-0d5bd7fc7e77"
      },
      "source": [
        "tf.keras.utils.plot_model(model)"
      ],
      "execution_count": 69,
      "outputs": [
        {
          "output_type": "execute_result",
          "data": {
            "image/png": "[encoded data removed]",
            "text/plain": [
              "<IPython.core.display.Image object>"
            ]
          },
          "metadata": {},
          "execution_count": 69
        }
      ]
    },
    {
      "cell_type": "code",
      "metadata": {
        "id": "VIoIpGec37U-"
      },
      "source": [
        "model.compile(optimizer='adam', loss='sparse_categorical_crossentropy',metrics=['acc'])"
      ],
      "execution_count": 70,
      "outputs": []
    },
    {
      "cell_type": "markdown",
      "metadata": {
        "id": "W95hw0_T35BI"
      },
      "source": [
        "## fit"
      ]
    },
    {
      "cell_type": "code",
      "metadata": {
        "colab": {
          "base_uri": "https://localhost:8080/"
        },
        "id": "YRGpXxVL0gQY",
        "outputId": "6ee4421c-c881-4c49-d652-a05b920d417b"
      },
      "source": [
        "hist = model.fit(x = [index_inputs,index_outputs], y =index_targets, batch_size=128, epochs=50)"
      ],
      "execution_count": 71,
      "outputs": [
        {
          "output_type": "stream",
          "text": [
            "Epoch 1/50\n",
            "1/1 [==============================] - 3s 3s/step - loss: 4.6971 - acc: 0.0060\n",
            "Epoch 2/50\n",
            "1/1 [==============================] - 0s 29ms/step - loss: 4.6798 - acc: 0.7880\n",
            "Epoch 3/50\n",
            "1/1 [==============================] - 0s 30ms/step - loss: 4.6621 - acc: 0.8200\n",
            "Epoch 4/50\n",
            "1/1 [==============================] - 0s 33ms/step - loss: 4.6434 - acc: 0.8180\n",
            "Epoch 5/50\n",
            "1/1 [==============================] - 0s 32ms/step - loss: 4.6234 - acc: 0.8180\n",
            "Epoch 6/50\n",
            "1/1 [==============================] - 0s 31ms/step - loss: 4.6013 - acc: 0.8180\n",
            "Epoch 7/50\n",
            "1/1 [==============================] - 0s 32ms/step - loss: 4.5765 - acc: 0.8180\n",
            "Epoch 8/50\n",
            "1/1 [==============================] - 0s 34ms/step - loss: 4.5482 - acc: 0.8180\n",
            "Epoch 9/50\n",
            "1/1 [==============================] - 0s 33ms/step - loss: 4.5153 - acc: 0.8180\n",
            "Epoch 10/50\n",
            "1/1 [==============================] - 0s 40ms/step - loss: 4.4765 - acc: 0.8180\n",
            "Epoch 11/50\n",
            "1/1 [==============================] - 0s 34ms/step - loss: 4.4300 - acc: 0.8180\n",
            "Epoch 12/50\n",
            "1/1 [==============================] - 0s 37ms/step - loss: 4.3734 - acc: 0.8180\n",
            "Epoch 13/50\n",
            "1/1 [==============================] - 0s 33ms/step - loss: 4.3035 - acc: 0.8180\n",
            "Epoch 14/50\n",
            "1/1 [==============================] - 0s 34ms/step - loss: 4.2162 - acc: 0.8180\n",
            "Epoch 15/50\n",
            "1/1 [==============================] - 0s 33ms/step - loss: 4.1066 - acc: 0.8180\n",
            "Epoch 16/50\n",
            "1/1 [==============================] - 0s 39ms/step - loss: 3.9697 - acc: 0.8180\n",
            "Epoch 17/50\n",
            "1/1 [==============================] - 0s 35ms/step - loss: 3.8021 - acc: 0.8180\n",
            "Epoch 18/50\n",
            "1/1 [==============================] - 0s 34ms/step - loss: 3.6050 - acc: 0.8180\n",
            "Epoch 19/50\n",
            "1/1 [==============================] - 0s 37ms/step - loss: 3.3862 - acc: 0.8180\n",
            "Epoch 20/50\n",
            "1/1 [==============================] - 0s 34ms/step - loss: 3.1581 - acc: 0.8180\n",
            "Epoch 21/50\n",
            "1/1 [==============================] - 0s 32ms/step - loss: 2.9329 - acc: 0.8180\n",
            "Epoch 22/50\n",
            "1/1 [==============================] - 0s 42ms/step - loss: 2.7190 - acc: 0.8180\n",
            "Epoch 23/50\n",
            "1/1 [==============================] - 0s 32ms/step - loss: 2.5211 - acc: 0.8180\n",
            "Epoch 24/50\n",
            "1/1 [==============================] - 0s 30ms/step - loss: 2.3415 - acc: 0.8180\n",
            "Epoch 25/50\n",
            "1/1 [==============================] - 0s 33ms/step - loss: 2.1800 - acc: 0.8180\n",
            "Epoch 26/50\n",
            "1/1 [==============================] - 0s 35ms/step - loss: 2.0348 - acc: 0.8180\n",
            "Epoch 27/50\n",
            "1/1 [==============================] - 0s 35ms/step - loss: 1.9041 - acc: 0.8180\n",
            "Epoch 28/50\n",
            "1/1 [==============================] - 0s 41ms/step - loss: 1.7861 - acc: 0.8180\n",
            "Epoch 29/50\n",
            "1/1 [==============================] - 0s 43ms/step - loss: 1.6796 - acc: 0.8180\n",
            "Epoch 30/50\n",
            "1/1 [==============================] - 0s 35ms/step - loss: 1.5834 - acc: 0.8180\n",
            "Epoch 31/50\n",
            "1/1 [==============================] - 0s 33ms/step - loss: 1.4971 - acc: 0.8180\n",
            "Epoch 32/50\n",
            "1/1 [==============================] - 0s 33ms/step - loss: 1.4200 - acc: 0.8180\n",
            "Epoch 33/50\n",
            "1/1 [==============================] - 0s 30ms/step - loss: 1.3518 - acc: 0.8180\n",
            "Epoch 34/50\n",
            "1/1 [==============================] - 0s 33ms/step - loss: 1.2921 - acc: 0.8180\n",
            "Epoch 35/50\n",
            "1/1 [==============================] - 0s 33ms/step - loss: 1.2401 - acc: 0.8180\n",
            "Epoch 36/50\n",
            "1/1 [==============================] - 0s 32ms/step - loss: 1.1953 - acc: 0.8180\n",
            "Epoch 37/50\n",
            "1/1 [==============================] - 0s 39ms/step - loss: 1.1566 - acc: 0.8180\n",
            "Epoch 38/50\n",
            "1/1 [==============================] - 0s 39ms/step - loss: 1.1233 - acc: 0.8180\n",
            "Epoch 39/50\n",
            "1/1 [==============================] - 0s 34ms/step - loss: 1.0943 - acc: 0.8180\n",
            "Epoch 40/50\n",
            "1/1 [==============================] - 0s 36ms/step - loss: 1.0687 - acc: 0.8180\n",
            "Epoch 41/50\n",
            "1/1 [==============================] - 0s 42ms/step - loss: 1.0457 - acc: 0.8180\n",
            "Epoch 42/50\n",
            "1/1 [==============================] - 0s 38ms/step - loss: 1.0247 - acc: 0.8180\n",
            "Epoch 43/50\n",
            "1/1 [==============================] - 0s 35ms/step - loss: 1.0051 - acc: 0.8180\n",
            "Epoch 44/50\n",
            "1/1 [==============================] - 0s 33ms/step - loss: 0.9865 - acc: 0.8180\n",
            "Epoch 45/50\n",
            "1/1 [==============================] - 0s 38ms/step - loss: 0.9687 - acc: 0.8180\n",
            "Epoch 46/50\n",
            "1/1 [==============================] - 0s 30ms/step - loss: 0.9519 - acc: 0.8180\n",
            "Epoch 47/50\n",
            "1/1 [==============================] - 0s 41ms/step - loss: 0.9360 - acc: 0.8180\n",
            "Epoch 48/50\n",
            "1/1 [==============================] - 0s 34ms/step - loss: 0.9215 - acc: 0.8180\n",
            "Epoch 49/50\n",
            "1/1 [==============================] - 0s 33ms/step - loss: 0.9086 - acc: 0.8180\n",
            "Epoch 50/50\n",
            "1/1 [==============================] - 0s 37ms/step - loss: 0.8978 - acc: 0.8180\n"
          ],
          "name": "stdout"
        }
      ]
    },
    {
      "cell_type": "markdown",
      "metadata": {
        "id": "ds2n5rkB5WB1"
      },
      "source": [
        "[참고사이트](https://github.com/NLP-kr/tensorflow-ml-nlp-tf2/blob/master/6.CHATBOT/6.4.seq2seq.ipynb)"
      ]
    }
  ]
}